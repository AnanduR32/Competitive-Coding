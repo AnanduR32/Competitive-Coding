{
 "cells": [
  {
   "cell_type": "markdown",
   "metadata": {},
   "source": [
    "# 1. Rank It\n",
    "You have been given an array A consisting of N integers. All the elements in this array A are unique. You have to answer some queries based on the elements of this array. Each query will consist of a single integer x. You need to print the rank based position of this element in this array considering that the array is 1 indexed. The rank based position of an element in an array is its position in the array when the array has been sorted in ascending order.  \n",
    "\n",
    "Note: It is guaranteed that all the elements in this array are unique and for each x belonging to a query, value x shall exist in the array  \n",
    "\n",
    "Input Format  \n",
    "The first line consists of a single integer N denoting the size of array A. The next line contains N unique integers, denoting the content of array A. The next line contains a single integer q denoting the number of queries. Each of the next q lines contains a single integer x denoting the element whose rank based position needs to be printed.  \n",
    "\n",
    "Output Format  \n",
    "You need to print q integers denoting the answer to each query.  \n"
   ]
  },
  {
   "cell_type": "code",
   "execution_count": 2,
   "metadata": {},
   "outputs": [
    {
     "name": "stdout",
     "output_type": "stream",
     "text": [
      "5\n",
      "1 2 3 4 5\n",
      "3\n",
      "3\n",
      "3\n",
      "2\n",
      "2\n",
      "1\n",
      "1\n"
     ]
    }
   ],
   "source": [
    "def binarySearch(n,low,high):\n",
    "    while(low<=high):\n",
    "        mid = (low+high)//2 \n",
    "        if(n==arr[mid]):\n",
    "            return(mid+1)\n",
    "        elif(n>arr[mid]):\n",
    "            low = mid+1\n",
    "        elif(n<arr[mid]):\n",
    "            high = mid-1\n",
    "        else:\n",
    "            return(-1)\n",
    "N = int(input())\n",
    "arr = [int(x) for x in input().split()]\n",
    "arr.sort()\n",
    "low, high = 0, len(arr)-1\n",
    "T = int(input())\n",
    "for i in range(T):\n",
    "    query = int(input())\n",
    "    print(binarySearch(query,low,high))"
   ]
  },
  {
   "cell_type": "markdown",
   "metadata": {},
   "source": [
    "# 2. Bishu and Soldiers\n",
    "Bishu went to fight for Coding Club. There were N soldiers with various powers. There will be Q rounds to fight and in each round Bishu's power will be varied. With power M, Bishu can kill all the soldiers whose power is less than or equal to M(<=M). After each round, All the soldiers who are dead in previous round will reborn.Such that in each round there will be N soldiers to fight. As Bishu is weak in mathematics, help him to count the number of soldiers that he can kill in each round and total sum of their powers.  \n",
    "\n",
    "**NOTE**: The test case on the hackerearth website is wrong for python3"
   ]
  },
  {
   "cell_type": "code",
   "execution_count": 1,
   "metadata": {},
   "outputs": [
    {
     "name": "stdout",
     "output_type": "stream",
     "text": [
      "6\n",
      "1 2 4 6 8 10\n",
      "3\n",
      "5\n",
      "3 7\n",
      "7\n",
      "4 13\n",
      "11\n",
      "6 31\n"
     ]
    }
   ],
   "source": [
    "def searchNoSoldiers(low,high,Pow):\n",
    "    while(low+1<high):\n",
    "        mid = (low+high)//2\n",
    "        if(arr[mid]>Pow):\n",
    "            high = mid\n",
    "        else:\n",
    "            low = mid\n",
    "    return(low+1)\n",
    "N = int(input())\n",
    "arr = []\n",
    "arr = [*map(int,input().split())]\n",
    "arr.sort()\n",
    "T = int(input())\n",
    "low, high = -1, N\n",
    "for i in range(T):\n",
    "    Pow = int(input())\n",
    "    res = searchNoSoldiers(low,high,Pow)\n",
    "    strength = sum(arr[:res])\n",
    "    print(f\"{res} {strength}\")"
   ]
  },
  {
   "cell_type": "markdown",
   "metadata": {},
   "source": [
    "# 3. Dr. Programmer \n",
    "After the death of Tony Stark now it's time for Morgon Stark to save the world. So she decided to build a data-centre in City. Assuming house of Morgon Stark at origin in 2D-plane she wants that distance of data-centre should be not more than Z from her house. But she has limited number of choices where she can build data-centre.She is interested to know that how many ways  she can choose a location for her data-centre.  So she gave her problem to you and asked for your help. Although you are not Dr. Strange , you  are Dr. Programmer so you can solve her problem.  \n",
    "\n",
    "You are given a set of X coordinates having length N  and a set of Y coordinates having length M  , find how many ways you can choose A point P(X0,Y0) from given set such that  \n",
    "X0 is one of the given X-coordinates.  \n",
    "Y0 is one of the given Y-coordinates.  \n",
    "Manhattan distance of P(X0,Y0) is less than or equal to Z.  \n",
    " \n",
    "You are given 3 types of query  \n",
    "- Z A L1 R1 :  you can choose X0 between [L1,R1] from given set of X cordinates and no restriction on Y0   \n",
    "- Z B L2 R2 : you can choose Y0  between [L2,R2] from given set of Y cordinates and no restriction on X0  \n",
    "- Z C L1 R1 L2 R2 :  you can choose X0  between [L1,R1] from given set of X cordinates  and Y0 between [L2,R2] from given set of Y cordinates  \n",
    "\n",
    "INPUT:  \n",
    "The first line contains two integer N,M,Q.  \n",
    "Next line  contains N space-separated integers Xi .denoting set of X-coordinate.  \n",
    "Next line  contains M space-separated integers Yi .denoting set of Y-coordinate.  \n",
    "Next Q lines  contains query as per problem statement  \n",
    "\n",
    "OUTPUT:  \n",
    "For each query print one integer - how many ways to choose point P(X0,Y0) in new line.\n",
    "\n"
   ]
  },
  {
   "cell_type": "markdown",
   "metadata": {},
   "source": [
    "### Solution 1: TLE (13/20)"
   ]
  },
  {
   "cell_type": "code",
   "execution_count": 11,
   "metadata": {
    "scrolled": false
   },
   "outputs": [
    {
     "name": "stdout",
     "output_type": "stream",
     "text": [
      "4 3 5\n",
      "12 7 19 18\n",
      "4 6 12\n",
      "18 C 7 15 3 7\n",
      "2\n",
      "20 A 10 100\n",
      "2\n",
      "15 B 4 10\n",
      "1\n",
      "100 C 1 10000 100 200\n",
      "0\n",
      "40 B 3 10\n",
      "8\n"
     ]
    }
   ],
   "source": [
    "def solve1(low,high,item,arr):\n",
    "    while(low+1<high):\n",
    "        mid = (high+low)//2\n",
    "        if(arr[mid]>item):\n",
    "            high = mid\n",
    "        else:\n",
    "            low = mid\n",
    "    return(low+1)\n",
    "def solve2(low,high,item,arr):\n",
    "    while(low+1<high):\n",
    "        mid = (high+low)//2\n",
    "        if(arr[mid]>=item):\n",
    "            high = mid\n",
    "        else:\n",
    "            low = mid\n",
    "    return(high)\n",
    "def getResult(in_,N_arr,M_arr):\n",
    "    Z = int(in_[0])\n",
    "    ch = in_[1]\n",
    "    count = 0\n",
    "    LRs = [int(x) for x in in_[2:]]\n",
    "    if(ch=='A'):\n",
    "        ul = solve1(-1,N,min(Z,LRs[1]),N_arr)\n",
    "        ll = solve2(-1,N,LRs[0],N_arr)\n",
    "        chosen_X = N_arr[ll:ul]\n",
    "        ul = solve1(-1,M,Z,M_arr)\n",
    "        chosen_Y = M_arr[:ul]\n",
    "    elif(ch=='B'):\n",
    "        ul = solve1(-1,N,Z,N_arr)\n",
    "        chosen_X = N_arr[:ul]\n",
    "        ul = solve1(-1,M,min(Z,LRs[1]),M_arr)\n",
    "        ll = solve2(-1,M,LRs[0],M_arr)\n",
    "        chosen_Y = M_arr[ll:ul]\n",
    "    elif(ch=='C'):\n",
    "        ul = solve1(-1,N,min(Z,LRs[1]),N_arr)\n",
    "        ll = solve2(-1,N,LRs[0],N_arr)\n",
    "        chosen_X = N_arr[ll:ul]\n",
    "        ul = solve1(-1,M,min(Z,LRs[3]),M_arr)\n",
    "        ll = solve2(-1,M,LRs[2],M_arr)\n",
    "        chosen_Y = M_arr[ll:ul]\n",
    "    for x in chosen_X:\n",
    "        count+=(solve1(-1,len(chosen_Y),(Z-x),chosen_Y))\n",
    "    return(count)\n",
    "\n",
    "N,M,Q = [*map(int,input().split())]\n",
    "N_arr = [*map(int,input().split())]\n",
    "N_arr.sort()\n",
    "M_arr = [*map(int,input().split())]\n",
    "M_arr.sort()\n",
    "for i in range(Q):\n",
    "    in_ = [*map(str,input().split())]\n",
    "    print(getResult(in_,N_arr,M_arr))"
   ]
  },
  {
   "cell_type": "markdown",
   "metadata": {},
   "source": [
    "### Solution 2: Fail Private Test Cases"
   ]
  },
  {
   "cell_type": "code",
   "execution_count": 5,
   "metadata": {
    "scrolled": true
   },
   "outputs": [
    {
     "name": "stdout",
     "output_type": "stream",
     "text": [
      "4 3 5\n",
      "12 7 19 18\n",
      "4 6 12\n",
      "18 C 7 15 3 7\n",
      "4\n",
      "20 A 10 100\n",
      "2\n",
      "15 B 4 10\n",
      "2\n",
      "100 C 1 10000 100 200\n",
      "0\n",
      "40 B 3 10\n",
      "8\n"
     ]
    }
   ],
   "source": [
    "def binarySearch(arr, s, e, k):\n",
    "    if(e >= 0 and arr[e] <= k):\n",
    "        return(e)\n",
    "    if(s < e):\n",
    "        mid = (s+e)//2\n",
    "        if(mid >= 0 and arr[mid] <= k):\n",
    "            ans = binarySearch(arr, mid+1, e, k)\n",
    "            return(ans)\n",
    "        else:\n",
    "            return(binarySearch(arr, s, mid-1, k))\n",
    "    return(-1)\n",
    "\n",
    "def getData(Z,X,Y,l1,r1,l2,r2):\n",
    "    count, start_idx_1, end_idx_1, start_idx_2, end_idx_2  = 0, 0, len(X)-1, 0, len(Y)-1\n",
    "    while(start_idx_1<len(X) and X[start_idx_1]<l1): \n",
    "        start_idx_1+=1\n",
    "    while(end_idx_1>=0 and X[end_idx_1]>r1):\n",
    "        end_idx_1-=1\n",
    "    while(start_idx_2<len(Y) and Y[start_idx_2]<l2):\n",
    "        start_idx_2+=1\n",
    "    while(end_idx_2>=0 and Y[end_idx_2]>r2):\n",
    "        end_idx_2-=1\n",
    "    if(end_idx_1 - start_idx_1+1>=end_idx_2-start_idx_2+1):\n",
    "        big_arr = X\n",
    "        small_arr = Y\n",
    "        start_idx_1, end_idx_1, start_idx_2, end_idx_2 = start_idx_2, end_idx_2,  start_idx_1, end_idx_1\n",
    "    else:\n",
    "        big_arr = Y\n",
    "        small_arr = X\n",
    "    for i in range(start_idx_1, end_idx_1+1):\n",
    "        res = binarySearch(big_arr, start_idx_2, end_idx_2, Z-small_arr[i])\n",
    "        if(res>=0):\n",
    "            res = res - start_idx_2 + 1\n",
    "            count+=res\n",
    "    return(count)\n",
    "\n",
    "def getResult(in_,X,Y):\n",
    "    Z = int(in_[0])\n",
    "    ch = in_[1]\n",
    "    count = 0\n",
    "    LRs = [int(_) for _ in in_[2:]]\n",
    "    if(ch=='A'):\n",
    "        return(getData(Z,X,Y,LRs[0],LRs[1],0,Y[len(Y)-1]))\n",
    "    elif(ch=='B'):\n",
    "        return(getData(Z,X,Y,0,X[len(X)-1],LRs[0],LRs[1]))\n",
    "    else:\n",
    "        return(getData(Z,X,Y,LRs[0],LRs[1],LRs[2],LRs[3]))\n",
    "\n",
    "N,M,Q = [*map(int,input().split())]\n",
    "X = [*map(int,input().split())]\n",
    "X.sort()\n",
    "Y = [*map(int,input().split())]\n",
    "Y.sort()\n",
    "for i in range(Q):\n",
    "    in_ = [*map(str,input().split())]\n",
    "    print(getResult(in_,X,Y))"
   ]
  },
  {
   "cell_type": "markdown",
   "metadata": {},
   "source": [
    "### Solution 3: Using bisect module (16.5/20) \n",
    "Public test case fails "
   ]
  },
  {
   "cell_type": "code",
   "execution_count": 12,
   "metadata": {},
   "outputs": [
    {
     "name": "stdout",
     "output_type": "stream",
     "text": [
      "4 3 1\n",
      "16 5 19 18\n",
      "7 14 16\n",
      "12 A 8 15\n",
      "0\n"
     ]
    }
   ],
   "source": [
    "import bisect\n",
    "def getResult(in_,N_arr,M_arr):\n",
    "    Z = int(in_[0])\n",
    "    ch = in_[1]\n",
    "    count = 0\n",
    "    LRs = [int(x) for x in in_[2:]]\n",
    "    if(ch=='A'):\n",
    "        ul = bisect.bisect_left(N_arr,min(LRs[1],Z))\n",
    "        ll = bisect.bisect_right(N_arr,LRs[0])\n",
    "        chosen_X = N_arr[ll:ul]\n",
    "        ul = bisect.bisect_left(M_arr,Z)\n",
    "        chosen_Y = M_arr[:ul]\n",
    "    elif(ch=='B'):\n",
    "        ul = bisect.bisect_left(N_arr,Z)\n",
    "        chosen_X = N_arr[:ul]\n",
    "        ul = bisect.bisect_left(M_arr,min(LRs[1],Z))\n",
    "        ll = bisect.bisect_right(M_arr,LRs[0])\n",
    "        chosen_Y = M_arr[ll:ul]\n",
    "    elif(ch=='C'):\n",
    "        ul = bisect.bisect_left(N_arr,min(LRs[1],Z))\n",
    "        ll = bisect.bisect_right(N_arr,LRs[0])\n",
    "        chosen_X = N_arr[ll:ul]\n",
    "        ul = bisect.bisect_left(M_arr,min(LRs[3],Z))\n",
    "        ll = bisect.bisect_right(M_arr,LRs[2])\n",
    "        chosen_Y = M_arr[ll:ul]\n",
    "    for x in chosen_X:\n",
    "        res = bisect.bisect_left(chosen_Y,(Z-x))\n",
    "        count+= res\n",
    "        if(res == 0):\n",
    "            break\n",
    "    return(count)\n",
    "N,M,Q = [*map(int,input().split())]\n",
    "N_arr = [*map(int,input().split())]\n",
    "N_arr.sort()\n",
    "M_arr = [*map(int,input().split())]\n",
    "M_arr.sort()\n",
    "for i in range(Q):\n",
    "    in_ = [*map(str,input().split())]\n",
    "    print(getResult(in_,N_arr,M_arr))"
   ]
  },
  {
   "cell_type": "markdown",
   "metadata": {},
   "source": [
    "# 4. C impresses everyone \n",
    "Two people, A and B are playing a game. They have infinite stones. A starts the game and puts a1 stones in a stack. Then B adds a2 stones to the stack. A continues by adding a3 stones. This goes on till their friend, C enters and decides to show his intelligence and impress everyone by choosing a stone from top at random(He doesn't remove this stone) and then tell whose stone it was. He does this q times. Output whose stone it was (A or B) and help C impress his friends with correct answers.\n",
    "\n",
    "Input format \n",
    "The first line of the input contains a single integer n denoting the number of turns.  \n",
    "Next line contains n space-separated integers denoting the stones added at each turn.  \n",
    "Next line contains a single integer q denoting the number of queries.  \n",
    "q lines follow:  \n",
    "    each of these lines contains the value of x denoting the position of the stone from the top.\n",
    "\n",
    "Output format  \n",
    "For each query, print A or B.  \n",
    "\n",
    "**NOTE: The Hackerearth compiler for python seems to through a runtime error**"
   ]
  },
  {
   "cell_type": "code",
   "execution_count": 1,
   "metadata": {},
   "outputs": [
    {
     "name": "stdout",
     "output_type": "stream",
     "text": [
      "5\n",
      "1 10 5 7 2\n",
      "2\n",
      "11\n",
      "12\n",
      "B\n",
      "A\n"
     ]
    }
   ],
   "source": [
    "def stoneOwner(n,low,high):\n",
    "    while(low<=high):\n",
    "        mid = (low+high)//2 \n",
    "        if(n==stackOwner[mid]):\n",
    "            return(mid)\n",
    "        if(n>stackOwner[mid]):\n",
    "            low = mid+1\n",
    "        else:\n",
    "            high = mid-1\n",
    "\n",
    "N = int(input())\n",
    "arr = [int(x) for x in input().split()]\n",
    "\n",
    "char = ['A','B']\n",
    "\n",
    "stackOwner = []\n",
    "person = 0\n",
    "for put_iter in arr:\n",
    "    for n_puts in range(put_iter):\n",
    "        stackOwner.append(char[person])\n",
    "    person = (person+1)%2\n",
    "        \n",
    "\n",
    "low = 0\n",
    "high = len(stackOwner)-1\n",
    "result = []\n",
    "t = int(input())\n",
    "for t_iter in range(t):\n",
    "    query = int(input())\n",
    "    # who = stoneOwner(query,low,high)\n",
    "    who = stackOwner[query-1]\n",
    "    result.append(who)\n",
    "for r_iter in range(t):\n",
    "    print(result[r_iter])"
   ]
  },
  {
   "cell_type": "markdown",
   "metadata": {},
   "source": [
    "# 5. The Old Monk\n",
    "Big Chandan is a dire lover of Biryani, especially Old Monk's Biryani. Today, he went over to have some of it. To his surprise, the waiter turns out be to be a coding geek and refuses to serves him unless Chandu solves his two- arrays problem, stated as: \n",
    "\n",
    "Given two non-increasing array of integers A,B i.e A[i] >= A[i+1] and B[i] >= B[i+1] and for all i, 0 ≤ i < n-1.    \n",
    "\n",
    "The monkiness of two numbers is given by: M (A[i],B[j]) = j - i , if j >=i and B[j] >= A[i], or 0 otherwise.  \n",
    "\n",
    "\n",
    "Find the monkiness of the two arrays, that is given by: M (A,B)= max (M(A[i],B[j])) for 0≤ i, j< n-1.  \n",
    "\n",
    "Input Format:  \n",
    "The first line contains an integer, tc, denoting the number of test cases. The next line contains an integer, n, denoting the size of the two arrays. The size of both the arrays will be equal. After that line, the next line contains n integers denoting the numbers in the array A, and in the next line, there will be n numbers denoting the numbers in the array B.  \n",
    " \n",
    "Output format:  \n",
    "Print the monkiness of the two arrays.  "
   ]
  },
  {
   "cell_type": "code",
   "execution_count": 54,
   "metadata": {},
   "outputs": [
    {
     "name": "stdout",
     "output_type": "stream",
     "text": [
      "2\n",
      "9\n",
      "7 7 3 3 3 2 2 2 1\n",
      "8 8 7 7 5 5 4 3 2\n",
      "5\n",
      "6\n",
      "6 5 4 4 4 4\n",
      "2 2 2 2 2 2\n",
      "0\n"
     ]
    }
   ],
   "source": [
    "for t_iter in range(int(input())):\n",
    "    size = int(input())\n",
    "    A  = [int(x) for x in input().split()]\n",
    "    B  = [int(x) for x in input().split()]\n",
    "    i, j, count = 0, 0, 0\n",
    "    while(i<size and j<size):\n",
    "        if(B[j]>=A[i]):\n",
    "            count = max(count,(j-i))\n",
    "            j+=1\n",
    "        else:\n",
    "            i+=1\n",
    "    print(count)"
   ]
  },
  {
   "cell_type": "markdown",
   "metadata": {},
   "source": [
    "# 6. The furious five\n",
    "You are given an integer N.  \n",
    "Write a program to find a minimum number P such that $1 \\le X \\le P, \\sum F(X)\\ge N$,  ( where $F(X)$ represents the number of times X can be divided by 5 ).  \n",
    "\n",
    "Example  \n",
    "$F(250) = 3, 250/5 = 50, 50/5 = 10, 10/5 = 2$: As 2 cannot be divided by 5, the procedure stops here.  \n",
    "For $1 \\le X \\le P, \\sum F(X)$ is defined as $F(1) + F(2) + F(3) + ... + F(P)$\n",
    "\n",
    "Input format  \n",
    "First line: T (Number of test cases)  \n",
    "First line in each test case: N    \n",
    "\n",
    "Output format  \n",
    "For each test case, print a minimum number P such that $1 \\le X \\le P, \\sum F(X)\\ge N$,  ( where $F(X)$ represents the number of times X can be divided by 5).\n",
    "\n",
    "Constraints  \n",
    "$1 \\le T \\le 10^{5}$  \n",
    "$1 \\le N \\le 10^{9}$"
   ]
  },
  {
   "cell_type": "code",
   "execution_count": 56,
   "metadata": {},
   "outputs": [
    {
     "name": "stdout",
     "output_type": "stream",
     "text": [
      "2\n",
      "1\n",
      "5\n",
      "2\n",
      "10\n"
     ]
    }
   ],
   "source": [
    "def getF(n):\n",
    "    count = 0\n",
    "    while(n):\n",
    "        count+=n//5\n",
    "        n=n//5\n",
    "    return(count)\n",
    "for T in range(int(input())):\n",
    "    N = int(input())\n",
    "    low, high = 5, 1e10\n",
    "    while(low<=high):\n",
    "        mid = int((low+high)//2)\n",
    "        if(getF(mid)<N):\n",
    "            low = mid+1\n",
    "        else:\n",
    "            high = mid-1\n",
    "            res = mid\n",
    "    print(res)"
   ]
  }
 ],
 "metadata": {
  "kernelspec": {
   "display_name": "Python 3",
   "language": "python",
   "name": "python3"
  },
  "language_info": {
   "codemirror_mode": {
    "name": "ipython",
    "version": 3
   },
   "file_extension": ".py",
   "mimetype": "text/x-python",
   "name": "python",
   "nbconvert_exporter": "python",
   "pygments_lexer": "ipython3",
   "version": "3.8.3"
  }
 },
 "nbformat": 4,
 "nbformat_minor": 4
}
