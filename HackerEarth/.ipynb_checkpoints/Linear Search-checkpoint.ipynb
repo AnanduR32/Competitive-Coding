{
 "cells": [
  {
   "cell_type": "markdown",
   "metadata": {},
   "source": [
    "# 1. Last occurance\n",
    "You have been given an array of size N consisting of integers. In addition you have been given an element M you need to find and print the index of the last occurrence of this element M in the array if it exists in it, otherwise print -1. Consider this array to be 1 indexed.  \n",
    "\n",
    "Input Format:  \n",
    "\n",
    "The first line consists of 2 integers N and M denoting the size of the array and the element to be searched for in the array respectively . The next line contains N space separated integers denoting the elements of of the array.  \n",
    "\n",
    "Output Format  \n",
    "\n",
    "Print a single integer denoting the index of the last occurrence of integer M in the array if it exists, otherwise print -1.  "
   ]
  },
  {
   "cell_type": "code",
   "execution_count": null,
   "metadata": {},
   "outputs": [],
   "source": [
    "N, search_item = [int(_) for _ in input().split()]\n",
    "array = [int(_) for _ in input().split()]\n",
    "array = array[::-1]\n",
    "pos = -1\n",
    "for i in range(0,N):\n",
    "    if(array[i] == search_item):\n",
    "        pos = N-i\n",
    "        break\n",
    "if(pos!=-1):\n",
    "    print(pos)\n",
    "else:\n",
    "    print(\"Item not found\")"
   ]
  },
  {
   "cell_type": "markdown",
   "metadata": {},
   "source": [
    "# 2. Easy Sum Set Problem\n",
    "In this problem, we define \"set\" is a collection of distinct numbers. For two sets A and B, we define their sum set is a set S(A,B) = {a+b|a in A, b in B}. In other word,  set S(A,B) contains all elements which can be represented as sum of an element in  A and an element in B. Given two sets A, C your task is to find set B of positive integers less than or equals 100 with maximum size such that S(A,B)=C. It is guaranteed that there is unique such set.\n",
    "\n",
    "Input Format\n",
    "\n",
    "The first line contains N denoting the number of elements in set A, the following line contains N space-separated integers  denoting the elements of set A.\n",
    "\n",
    "The third line contains M denoting the number of elements in set C, the following line contains M space-separated integers  denoting the elements of set C.\n",
    "\n",
    "Output Format\n",
    "\n",
    "Print all elements of B in increasing order in a single line, separated by space."
   ]
  },
  {
   "cell_type": "code",
   "execution_count": null,
   "metadata": {},
   "outputs": [],
   "source": [
    "N = int(input())\n",
    "A = [int(_) for _ in input().split()]\n",
    "M = int(input())\n",
    "C = [int(_) for _ in input().split()]\n",
    "possible_B = [abs(c-a) for c in C for a in A]\n",
    "B = possible_B.copy()\n",
    "for B_iter in possible_B:\n",
    "    for A_iter in A:\n",
    "        if(A_iter+B_iter not in C):\n",
    "            B.remove(B_iter)\n",
    "            break\n",
    "B = list(set(B))\n",
    "for _ in B:\n",
    "    print(_,end=\" \")"
   ]
  },
  {
   "cell_type": "markdown",
   "metadata": {},
   "source": [
    "# 3. Counting Frog Paths\n",
    "There is a frog initially placed at the origin of the coordinate plane. In exactly  second, the frog can either move up  unit, move right  unit, or stay still. In other words, from position , the frog can spend  second to move to:  \n",
    "- (X+1,Y)  \n",
    "- (X,Y+1)  \n",
    "- (X,Y)\n",
    "\n",
    "After T seconds, a villager who sees the frog reports that the frog lies on or inside a square of side-length  with coordinates (X,Y), (X+s,Y), (X,Y+s), (X+s,Y+s). Calculate how many points with integer coordinates on or inside this square could be the frog's position after exactly  seconds\n",
    "\n",
    "Input Format:\n",
    "\n",
    "The first and only line of input contains four space-separated integers: X, Y, s, and T.\n",
    "\n",
    "Output Format:\n",
    "\n",
    "Print the number of points with integer coordinates that could be the frog's position after T seconds."
   ]
  },
  {
   "cell_type": "code",
   "execution_count": null,
   "metadata": {},
   "outputs": [],
   "source": [
    "X,Y,s,T = [int(_) for _ in input().split()]\n",
    "count = 0\n",
    "for i in range(X,X+s+1):\n",
    "    for j in range(Y,Y+s+1):\n",
    "        if((i+j)<=T):\n",
    "            count+=1\n",
    "print(count)"
   ]
  },
  {
   "cell_type": "markdown",
   "metadata": {},
   "source": [
    "# 4. Rest in peace - 21-1!\n",
    "The grandest stage of all, Wrestlemania XXX recently happened. And with it, happened one of the biggest heartbreaks for the WWE fans around the world. The Undertaker's undefeated streak was finally over.  \n",
    "\n",
    "Now as an Undertaker fan, you're disappointed, disheartened and shattered to pieces. And Little Jhool doesn't want to upset you in any way possible. (After all you are his only friend, true friend!) Little Jhool knows that you're still sensitive to the loss, so he decides to help you out.  \n",
    "\n",
    "Every time you come across a number, Little Jhool carefully manipulates it. He doesn't want you to face numbers which have \"21\" as a part of them. Or, in the worst case possible, are divisible by 21.  \n",
    "\n",
    "If you end up facing such a number you feel sad... and no one wants that - because you start chanting \"The streak is broken!\" , if the number doesn't make you feel sad, you say, \"The streak lives still in our heart!\"  \n",
    "\n",
    "Help Little Jhool so that he can help you!\n",
    "\n",
    "Input Format:  \n",
    "The first line contains a number, t, denoting the number of test cases.  \n",
    "After that, for t lines there is one number in every line.  \n",
    "\n",
    "Output Format:  \n",
    "Print the required string, depending on how the number will make you feel.  "
   ]
  },
  {
   "cell_type": "code",
   "execution_count": null,
   "metadata": {
    "scrolled": true
   },
   "outputs": [],
   "source": [
    "T = int(input())\n",
    "for i in range(T):\n",
    "    flag=0\n",
    "    input_ = int(input())\n",
    "    if(input_%21==0 or '21' in str(input_)):\n",
    "        print(\"The streak is broken!\")\n",
    "    else:\n",
    "        print(\"The streak lives still in our heart!\")"
   ]
  },
  {
   "cell_type": "markdown",
   "metadata": {},
   "source": [
    "# 5. Policemen and thieves \n",
    "You are given a grid of size N x N that has the following specifications:  \n",
    "\n",
    "Each cell in the grid contains either a policeman or a thief.  \n",
    "A policeman can only catch a thief if both of them are in the same row.  \n",
    "Each policeman can only catch one thief.  \n",
    "A policeman cannot catch a thief who is more than K units away from the policeman.  \n",
    "Write a program to find the maximum number of thieves that can be caught in the grid.  \n",
    "\n",
    "Input format  \n",
    "\n",
    "First line: T (number of test cases)  \n",
    "For each test case  \n",
    "First line: Two space-separated integers N and K  \n",
    "Next N lines: N space-separated characters (denoting each cell in the grid)  \n",
    "Output format  \n",
    "\n",
    "For each test case, print the maximum number of thieves that can be caught in the grid.  "
   ]
  },
  {
   "cell_type": "markdown",
   "metadata": {},
   "source": [
    "### Solution 1: (27/30)"
   ]
  },
  {
   "cell_type": "code",
   "execution_count": null,
   "metadata": {},
   "outputs": [],
   "source": [
    "def solution (A, K, N):\n",
    "    count = 0\n",
    "    for i in range(N):\n",
    "        queue = []\n",
    "        for j in range(N):\n",
    "            if not queue:\n",
    "                queue.append(A[i][j])\n",
    "            elif(A[i][j] not in queue):\n",
    "                del queue[0]\n",
    "                count+=1\n",
    "            else:\n",
    "                queue.append(A[i][j])\n",
    "                if(len(queue)>K):\n",
    "                    del queue[0]\n",
    "    return(count)\n",
    "T = int(input())\n",
    "for _ in range(T):\n",
    "    N, K = map(int, input().split())\n",
    "    A = []\n",
    "    for _ in range(N):\n",
    "        A.append(input().split())\n",
    "    out_ = solution(A, K, N)\n",
    "    print (out_)"
   ]
  },
  {
   "cell_type": "markdown",
   "metadata": {},
   "source": [
    "# 6. Simple search\n",
    "Given a List of Distinct N number a1,a2,a3........an.  \n",
    "Find The Position Of Number K In The Given List.  \n",
    "\n",
    "Input Format  \n",
    "First Line Take Input Value Of N  \n",
    "Second Line Take Input N Space Separated Integer Value  \n",
    "Third Line Take Input Value Of K    \n",
    "\n",
    "Output Format  \n",
    "Position Of K In The Given List  "
   ]
  },
  {
   "cell_type": "code",
   "execution_count": null,
   "metadata": {},
   "outputs": [],
   "source": [
    "N = int(input())\n",
    "arr = [*map(int, input().split())]\n",
    "item = int(input())\n",
    "print(arr.index(item))"
   ]
  },
  {
   "cell_type": "markdown",
   "metadata": {},
   "source": [
    "# 7. Repeated K Times\n",
    "Given a List of N number a1,a2,a3........an, You have to find smallest number from the List that is repeated in the List exactly K number of times.  \n",
    "\n",
    "Input Format  \n",
    "First Line of Input Contain Single Value N, Size of List  \n",
    "Second Line of Input Contain N Space Separated Integers  \n",
    "Third Line of Input Contain Single Value K  \n",
    "\n",
    "Output Format  \n",
    "Smallest Integer Value That is Repeated Exactly K Number of Time  "
   ]
  },
  {
   "cell_type": "code",
   "execution_count": null,
   "metadata": {},
   "outputs": [],
   "source": [
    "N = int(input())\n",
    "arr = [*map(int,input().split())]\n",
    "K = int(input())\n",
    "d = {}\n",
    "min_val = [100002]\n",
    "for i in arr:\n",
    "    if(i in d):\n",
    "        d[i]+=1\n",
    "    else:\n",
    "        d[i]=1\n",
    "    if(d[i]==K and i<min_val[-1]):\n",
    "        min_val.append(i)\n",
    "    elif(d[i]>K and i in min_val):\n",
    "        min_val.remove(i)\n",
    "\n",
    "print(min_val[-1])"
   ]
  },
  {
   "cell_type": "markdown",
   "metadata": {},
   "source": [
    "# 8. The Normal Type (16.5/30 - Time Exceeded)\n",
    "There are a lot of Poke'mons who are jealous of the fact that they do NOT have any specialty, they're the... normal type of Poke'mon. But, what they fail to realize is that their power is their normalcy, the ability to think, rationalize and then act.  \n",
    "\n",
    "But, they do have an additional power... Poke'mons like Jigglypuff - which are normal, can figure out if a trainer is real or is a part of Team Rocket. And they need to use their power to a great extent.  \n",
    "\n",
    "In an array, which consists of N elements, A1, A2, ..., AN, if a subarray has the total number of distinct elements as that of the original array, that determines the presence of Team Rocket.  \n",
    "\n",
    "You've to help the normal type Poke'mons in figuring out the total number of subarrays having total number of distinct elements same as that of the original array.  \n",
    "\n",
    "Input format:  \n",
    "The first line of the input will consist of a single integer N.  \n",
    "The next line will consist of N integers A1, A2, ... , AN.  \n",
    "\n",
    "```\n",
    "    5\n",
    "    1 2 2 1 1 \n",
    "```\n",
    "\n",
    "Output format:   \n",
    "Output the answer to the problem.\n",
    "\n",
    "```\n",
    "    8\n",
    "```\n",
    "\n",
    "Explaination :  \n",
    "The possible subarrays are A[1:2] , A[1:3] , A[1:4] , A[1:5] , A[2:4] , A[2:5] , A[3:4] , A[3:5]  \n",
    "A[1:4] = [1,2,2,1] -> where number of distinct elements is 2 - same as in the original array"
   ]
  },
  {
   "cell_type": "code",
   "execution_count": 6,
   "metadata": {},
   "outputs": [
    {
     "name": "stdout",
     "output_type": "stream",
     "text": [
      "5\n",
      "1 2 2 1 1\n",
      "8\n"
     ]
    }
   ],
   "source": [
    "N = int(input())\n",
    "arr = [*map(int,input().split())]\n",
    "K = len(set(arr))\n",
    "count = 0\n",
    "d = []\n",
    "for i in range(N):\n",
    "    d.append(arr[i])\n",
    "    while(len(set(d))==K):\n",
    "        count+=N-i\n",
    "        del d[0]\n",
    "print(count)"
   ]
  },
  {
   "cell_type": "markdown",
   "metadata": {},
   "source": [
    "# 9. Manna's First Name\n",
    "Manna is extremely disappointed to find out that no one in his college knows his first name. Even his classmates call him only by his last name. Frustrated, he decides to make his fellow college students know his first name by forcing them to solve this question.  \n",
    "\n",
    "You are given a long string as input in each testcase, containing any ASCII character. Your task is to find out the number of times SUVO and SUVOJIT appears in it.   \n",
    "\n",
    "Note: This problem must be solved in C language only.  \n",
    "\n",
    "Input Format  \n",
    "The first line contains the number of testcases, T. Next, T lines follow each containing a long string S.  \n",
    "\n",
    "Output Format  \n",
    "For each long string S, display the no. of times SUVO and SUVOJIT appears in it.  "
   ]
  },
  {
   "cell_type": "markdown",
   "metadata": {},
   "source": [
    "### Solution 1:"
   ]
  },
  {
   "cell_type": "code",
   "execution_count": 3,
   "metadata": {},
   "outputs": [
    {
     "name": "stdout",
     "output_type": "stream",
     "text": [
      "3\n",
      "SUVOJITSU \n",
      "SUVO = 0, SUVOJIT = 1\n",
      "651SUVOMN \n",
      "SUVO = 1, SUVOJIT = 0\n",
      "$$$$$SUVOSUVOJIT$$$$$\n",
      "SUVO = 1, SUVOJIT = 1\n"
     ]
    }
   ],
   "source": [
    "import re\n",
    "T = int(input())\n",
    "for i in range(T):\n",
    "    string = input()\n",
    "    list_1 = re.findall('(SUVO(?!JIT))',string)\n",
    "    list_2 = re.findall('SUVOJIT',string)\n",
    "    count_1 = len(list_1)\n",
    "    count_2 = len(list_2)\n",
    "    print(\"SUVO = {}, SUVOJIT = {}\".format(count_1,count_2))"
   ]
  },
  {
   "cell_type": "markdown",
   "metadata": {},
   "source": [
    "### Solution 2:"
   ]
  },
  {
   "cell_type": "code",
   "execution_count": 2,
   "metadata": {},
   "outputs": [
    {
     "name": "stdout",
     "output_type": "stream",
     "text": [
      "3\n",
      "SUVOJITSU \n",
      "SUVO = 0, SUVOJIT = 1\n",
      "651SUVOMN \n",
      "SUVO = 1, SUVOJIT = 0\n",
      "$$$$$SUVOSUVOJIT$$$$$\n",
      "SUVO = 1, SUVOJIT = 1\n"
     ]
    }
   ],
   "source": [
    "t=int(input())\n",
    "for _ in range(t):\n",
    "    string=input()\n",
    "    count_2=string.count(\"SUVOJIT\")\n",
    "    string=string.replace(\"SUVOJIT\",\"\")\n",
    "    count_1=string.count(\"SUVO\")\n",
    "    print(f\"SUVO = {count_1}, SUVOJIT = {count_2}\")"
   ]
  },
  {
   "cell_type": "markdown",
   "metadata": {},
   "source": [
    "# 10. Holiday Season (Time Exceed - $O(n^{4})$ is impractical)\n",
    "It's a holiday season for all school students around the world! Unfortunately, Mahamba is busy preparing for International Olympiad in Informatics, which will be held in Tehran, Iran. He is now facing a new challenge from his teacher Aceka, and it goes something like this:  \n",
    "\n",
    "You have a string x of length N, which consists of small English letters. You have to find the number of indexes a, b, c and d, such that $1\\le a\\lt b\\lt c\\lt d\\le N$ and $x_{a}==x_{c}$, as well as $x_{b}==x_{d}$.\n",
    "\n",
    "He is baffled and definitely needs some help. So, you, the best programmer in Lalalandia, decided to give him a hand!\n",
    "\n",
    "Input format  \n",
    "The first line contains the number N - the length of a string x. The second line contains the string x itself.\n",
    "\n",
    "```\n",
    "    5\n",
    "    ababa\n",
    "```\n",
    "\n",
    "Output format  \n",
    "The first and only line should contain the answer to the problem.  \n",
    "\n",
    "```\n",
    "    2\n",
    "```"
   ]
  },
  {
   "cell_type": "code",
   "execution_count": 4,
   "metadata": {},
   "outputs": [
    {
     "name": "stdout",
     "output_type": "stream",
     "text": [
      "5\n",
      "ababa\n",
      "2\n"
     ]
    }
   ],
   "source": [
    "N = int(input())\n",
    "string = input()\n",
    "count=0\n",
    "for i in range(N):\n",
    "    d = string[i]\n",
    "    for j in range(i,N):\n",
    "        if(string[j]==d[0]):\n",
    "            for k in range(i+1,j):\n",
    "                e = string[k]\n",
    "                for l in range(j+1,N):\n",
    "                    if(string[l]==e):\n",
    "                        count+=1\n",
    "    \n",
    "\n",
    "print(count)"
   ]
  },
  {
   "cell_type": "markdown",
   "metadata": {},
   "source": [
    "# 11. Maximum sum\n",
    "You are given an array of integers A, you need to find the maximum sum that can be obtained by picking some non-empty subset of the array. If there are many such non-empty subsets, choose the one with the maximum number of elements. Print the maximum sum and the number of elements in the chosen subset.\n",
    "\n",
    "Input:\n",
    "\n",
    "The first line contains an integer N, denoting the number of elements of the array. Next line contains N space-separated integers, denoting the elements of the array.\n",
    "\n",
    "Output:\n",
    "\n",
    "Print 2 space-separated integers, the maximum sum that can be obtained by choosing some subset and the maximum number of elements among all such subsets which have the same maximum sum."
   ]
  },
  {
   "cell_type": "code",
   "execution_count": 5,
   "metadata": {},
   "outputs": [
    {
     "name": "stdout",
     "output_type": "stream",
     "text": [
      "5\n",
      "1 2 -4 -2 3\n",
      "6 3\n"
     ]
    }
   ],
   "source": [
    "N = int(input())\n",
    "arr = [*map(int, input().split())]\n",
    "arr_2 = [x for x in arr if x >= 0]\n",
    "if(len(arr_2)!=0):\n",
    "    ans_1 = sum(arr_2)\n",
    "    ans_2 = len(arr_2)\n",
    "else:\n",
    "    ans_1 = max(arr)\n",
    "    ans_2 = 1\n",
    "print(\"{} {}\".format(ans_1,ans_2))"
   ]
  },
  {
   "cell_type": "code",
   "execution_count": null,
   "metadata": {},
   "outputs": [],
   "source": []
  }
 ],
 "metadata": {
  "kernelspec": {
   "display_name": "Python 3",
   "language": "python",
   "name": "python3"
  },
  "language_info": {
   "codemirror_mode": {
    "name": "ipython",
    "version": 3
   },
   "file_extension": ".py",
   "mimetype": "text/x-python",
   "name": "python",
   "nbconvert_exporter": "python",
   "pygments_lexer": "ipython3",
   "version": "3.8.3"
  }
 },
 "nbformat": 4,
 "nbformat_minor": 4
}
