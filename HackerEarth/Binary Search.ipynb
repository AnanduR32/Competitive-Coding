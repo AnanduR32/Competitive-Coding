{
 "cells": [
  {
   "cell_type": "markdown",
   "metadata": {},
   "source": [
    "# Rank It\n",
    "You have been given an array A consisting of N integers. All the elements in this array A are unique. You have to answer some queries based on the elements of this array. Each query will consist of a single integer x. You need to print the rank based position of this element in this array considering that the array is 1 indexed. The rank based position of an element in an array is its position in the array when the array has been sorted in ascending order.  \n",
    "\n",
    "Note: It is guaranteed that all the elements in this array are unique and for each x belonging to a query, value x shall exist in the array  \n",
    "\n",
    "Input Format  \n",
    "The first line consists of a single integer N denoting the size of array A. The next line contains N unique integers, denoting the content of array A. The next line contains a single integer q denoting the number of queries. Each of the next q lines contains a single integer x denoting the element whose rank based position needs to be printed.  \n",
    "\n",
    "Output Format  \n",
    "You need to print q integers denoting the answer to each query.  \n"
   ]
  },
  {
   "cell_type": "code",
   "execution_count": 2,
   "metadata": {},
   "outputs": [
    {
     "name": "stdout",
     "output_type": "stream",
     "text": [
      "5\n",
      "1 2 3 4 5\n",
      "3\n",
      "3\n",
      "3\n",
      "2\n",
      "2\n",
      "1\n",
      "1\n"
     ]
    }
   ],
   "source": [
    "def binarySearch(n,low,high):\n",
    "    while(low<=high):\n",
    "        mid = (low+high)//2 \n",
    "        if(n==arr[mid]):\n",
    "            return(mid+1)\n",
    "        elif(n>arr[mid]):\n",
    "            low = mid+1\n",
    "        elif(n<arr[mid]):\n",
    "            high = mid-1\n",
    "        else:\n",
    "            return(-1)\n",
    "N = int(input())\n",
    "arr = [int(x) for x in input().split()]\n",
    "arr.sort()\n",
    "low, high = 0, len(arr)-1\n",
    "T = int(input())\n",
    "for i in range(T):\n",
    "    query = int(input())\n",
    "    print(binarySearch(query,low,high))"
   ]
  },
  {
   "cell_type": "markdown",
   "metadata": {},
   "source": [
    "# Bishu and Soldiers\n",
    "Bishu went to fight for Coding Club. There were N soldiers with various powers. There will be Q rounds to fight and in each round Bishu's power will be varied. With power M, Bishu can kill all the soldiers whose power is less than or equal to M(<=M). After each round, All the soldiers who are dead in previous round will reborn.Such that in each round there will be N soldiers to fight. As Bishu is weak in mathematics, help him to count the number of soldiers that he can kill in each round and total sum of their powers.  \n",
    "\n",
    "**NOTE**: The test case on the hackerearth website is wrong for python3"
   ]
  },
  {
   "cell_type": "code",
   "execution_count": 3,
   "metadata": {},
   "outputs": [
    {
     "name": "stdout",
     "output_type": "stream",
     "text": [
      "6\n",
      "1 2 4 6 8 10\n",
      "3\n",
      "5\n",
      "3 7\n",
      "7\n",
      "4 13\n",
      "11\n",
      "6 31\n"
     ]
    }
   ],
   "source": [
    "def searchNoSoldiers(low,high,Pow):\n",
    "    while(low+1<high):\n",
    "        mid = low+(high-low)//2\n",
    "        if(arr[mid]>Pow):\n",
    "            high = mid\n",
    "        else:\n",
    "            low = mid\n",
    "    return(low+1)\n",
    "N = int(input())\n",
    "arr = []\n",
    "arr = [*map(int,input().split())]\n",
    "arr.sort()\n",
    "T = int(input())\n",
    "low, high = -1, N\n",
    "for i in range(T):\n",
    "    Pow = int(input())\n",
    "    res = searchNoSoldiers(low,high,Pow)\n",
    "    strength = sum(arr[:res])\n",
    "    print(f\"{res} {strength}\")"
   ]
  },
  {
   "cell_type": "markdown",
   "metadata": {},
   "source": [
    "# Dr. Programmer TLE (11/20)\n",
    "After the death of Tony Stark now it's time for Morgon Stark to save the world. So she decided to build a data-centre in City. Assuming house of Morgon Stark at origin in 2D-plane she wants that distance of data-centre should be not more than Z from her house. But she has limited number of choices where she can build data-centre.She is interested to know that how many ways  she can choose a location for her data-centre.  So she gave her problem to you and asked for your help. Although you are not Dr. Strange , you  are Dr. Programmer so you can solve her problem.  \n",
    "\n",
    "You are given a set of X coordinates having length N  and a set of Y coordinates having length M  , find how many ways you can choose A point P(X0,Y0) from given set such that  \n",
    "X0 is one of the given X-coordinates.  \n",
    "Y0 is one of the given Y-coordinates.  \n",
    "Manhattan distance of P(X0,Y0) is less than or equal to Z.  \n",
    " \n",
    "You are given 3 types of query  \n",
    "- Z A L1 R1 :  you can choose X0 between [L1,R1] from given set of X cordinates and no restriction on Y0   \n",
    "- Z B L2 R2 : you can choose Y0  between [L2,R2] from given set of Y cordinates and no restriction on X0  \n",
    "- Z C L1 R1 L2 R2 :  you can choose X0  between [L1,R1] from given set of X cordinates  and Y0 between [L2,R2] from given set of Y cordinates  \n",
    "\n",
    "INPUT:  \n",
    "The first line contains two integer N,M,Q.  \n",
    "Next line  contains N space-separated integers Xi .denoting set of X-coordinate.  \n",
    "Next line  contains M space-separated integers Yi .denoting set of Y-coordinate.  \n",
    "Next Q lines  contains query as per problem statement  \n",
    "\n",
    "OUTPUT:  \n",
    "For each query print one integer - how many ways to choose point P(X0,Y0) in new line.\n",
    "\n"
   ]
  },
  {
   "cell_type": "code",
   "execution_count": 23,
   "metadata": {},
   "outputs": [
    {
     "name": "stdout",
     "output_type": "stream",
     "text": [
      "4 3 5\n",
      "12 7 19 18\n",
      "4 6 12\n",
      "18 C 7 15 3 7\n",
      "4\n",
      "20 A 10 100\n",
      "2\n",
      "15 B 4 10\n",
      "2\n",
      "100 C 1 10000 100 200\n",
      "0\n",
      "40 B 3 10\n",
      "8\n"
     ]
    }
   ],
   "source": [
    "def solve1(low,high,item,arr):\n",
    "    while(low+1<high):\n",
    "        mid = (high+low)//2\n",
    "        if(arr[mid]>item):\n",
    "            high = mid\n",
    "        else:\n",
    "            low = mid\n",
    "    return(low+1)\n",
    "def solve2(low,high,item,arr):\n",
    "    while(low+1<high):\n",
    "        mid = (high+low)//2\n",
    "        if(arr[mid]>=item):\n",
    "            high = mid\n",
    "        else:\n",
    "            low = mid\n",
    "    return(high)\n",
    "\n",
    "N,M,Q = [*map(int,input().split())]\n",
    "N_arr = [*map(int,input().split())]\n",
    "N_arr.sort()\n",
    "M_arr = [*map(int,input().split())]\n",
    "M_arr.sort()\n",
    "for i in range(Q):\n",
    "    in_ = [*map(str,input().split())]\n",
    "    Z = int(in_[0])\n",
    "    ch = in_[1]\n",
    "    count = 0\n",
    "    low = -1\n",
    "    LRs = [int(x) for x in in_[2:]]\n",
    "    if(ch=='A'):\n",
    "        res1 = solve1(-1,N,LRs[1],N_arr)\n",
    "        res2 = solve2(-1,N,LRs[0],N_arr)\n",
    "        chosen_X = N_arr[res2:res1]\n",
    "        chosen_Y = M_arr\n",
    "    elif(ch=='B'):\n",
    "        chosen_X = N_arr\n",
    "        res1 = solve1(-1,M,LRs[1],M_arr)\n",
    "        res2 = solve2(-1,M,LRs[0],M_arr)\n",
    "        chosen_Y = M_arr[res2:res1]\n",
    "    elif(ch=='C'):\n",
    "        res1 = solve1(-1,N,LRs[1],N_arr)\n",
    "        res2 = solve2(-1,N,LRs[0],N_arr)\n",
    "        chosen_X = N_arr[res2:res1]\n",
    "        res1 = solve1(-1,M,LRs[3],M_arr)\n",
    "        res2 = solve2(-1,M,LRs[2],M_arr)\n",
    "        chosen_Y = M_arr[res2:res1]\n",
    "    for x in chosen_X:\n",
    "        if(x>Z):\n",
    "            break\n",
    "        for y in chosen_Y:\n",
    "            if(x+y>Z):\n",
    "                break\n",
    "            count+=1\n",
    "    print(count)\n"
   ]
  },
  {
   "cell_type": "markdown",
   "metadata": {},
   "source": []
  },
  {
   "cell_type": "code",
   "execution_count": null,
   "metadata": {},
   "outputs": [],
   "source": []
  },
  {
   "cell_type": "markdown",
   "metadata": {},
   "source": []
  },
  {
   "cell_type": "code",
   "execution_count": null,
   "metadata": {},
   "outputs": [],
   "source": []
  },
  {
   "cell_type": "markdown",
   "metadata": {},
   "source": []
  },
  {
   "cell_type": "code",
   "execution_count": null,
   "metadata": {},
   "outputs": [],
   "source": []
  },
  {
   "cell_type": "markdown",
   "metadata": {},
   "source": []
  },
  {
   "cell_type": "code",
   "execution_count": null,
   "metadata": {},
   "outputs": [],
   "source": []
  },
  {
   "cell_type": "markdown",
   "metadata": {},
   "source": []
  },
  {
   "cell_type": "code",
   "execution_count": null,
   "metadata": {},
   "outputs": [],
   "source": []
  }
 ],
 "metadata": {
  "kernelspec": {
   "display_name": "Python 3",
   "language": "python",
   "name": "python3"
  },
  "language_info": {
   "codemirror_mode": {
    "name": "ipython",
    "version": 3
   },
   "file_extension": ".py",
   "mimetype": "text/x-python",
   "name": "python",
   "nbconvert_exporter": "python",
   "pygments_lexer": "ipython3",
   "version": "3.8.3"
  }
 },
 "nbformat": 4,
 "nbformat_minor": 4
}
