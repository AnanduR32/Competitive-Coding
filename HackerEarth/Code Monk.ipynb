{
 "cells": [
  {
   "cell_type": "markdown",
   "metadata": {},
   "source": [
    "# Monk and Rotation\n",
    "Monk loves to preform different operations on arrays, and so being the principal of Hackerearth School, he assigned a task to his new student Mishki. Mishki will be provided with an integer array A of size N and an integer K , where she needs to rotate the array in the right direction by K steps and then print the resultant array. As she is new to the school, please help her to complete the task.  \n",
    "\n",
    "Input:  \n",
    "The first line will consists of one integer T denoting the number of test cases.  \n",
    "For each test case:  \n",
    "1) The first line consists of two integers N and K, N being the number of elements in the array and K denotes the number of steps of rotation.  \n",
    "2) The next line consists of N space separated integers , denoting the elements of the array A.  \n",
    "Output:  \n",
    "Print the required array."
   ]
  },
  {
   "cell_type": "code",
   "execution_count": 2,
   "metadata": {},
   "outputs": [
    {
     "name": "stdout",
     "output_type": "stream",
     "text": [
      "1\n",
      "5 3\n",
      "1 2 3 4 5\n",
      "3 4 5 1 2 \n"
     ]
    }
   ],
   "source": [
    "for i in range(int(input())):\n",
    "    N, K = [int(x) for x in input().split()]\n",
    "    A = [int(x) for x in input().split()]\n",
    "    K%=N\n",
    "    B = [*map(lambda x: A[(x+(N-K))%N],range(0,N))]\n",
    "    for i in B:\n",
    "        print(i, end = \" \")\n",
    "    print()"
   ]
  },
  {
   "cell_type": "markdown",
   "metadata": {},
   "source": [
    "# Monk and inversion \n",
    "Monk's best friend Micro, who happen to be an awesome programmer, got him an integer matrix M of size  for his birthday. Monk is taking coding classes from Micro. They have just completed array inversions and Monk was successful in writing a program to count the number of inversions in an array. Now, Micro has asked Monk to find out the number of inversion in the matrix M. Number of inversions, in a matrix is defined as the number of unordered pairs of cells  such that .\n",
    "Monk is facing a little trouble with this task and since you did not got him any birthday gift, you need to help him with this task.  \n",
    "Input:  \n",
    "First line consists of a single integer T denoting the number of test cases.\n",
    "First line of each test case consists of one integer denoting N. Following N lines consists of N space separated integers denoting the matrix M.  \n",
    "\n",
    "Output:  \n",
    "Print the answer to each test case in a new line.  \n",
    "\n",
    "Constraints:   \n",
    "1<=T<=100   \n",
    "1<=N<=20  \n",
    "\n",
    "Sample Input   \n",
    "\n",
    "```\n",
    "2\n",
    "3\n",
    "1 2 3\n",
    "4 5 6\n",
    "7 8 9\n",
    "2\n",
    "4 3\n",
    "1 4\n",
    "```\n",
    "\n",
    "Sample Output\n",
    "\n",
    "```\n",
    "0\n",
    "2\n",
    "```"
   ]
  },
  {
   "cell_type": "code",
   "execution_count": 3,
   "metadata": {},
   "outputs": [
    {
     "name": "stdout",
     "output_type": "stream",
     "text": [
      "2\n",
      "3\n",
      "9 8 7\n",
      "6 5 4\n",
      "3 2 1\n",
      "27\n",
      "2\n",
      "4 3 \n",
      "1 4\n",
      "2\n"
     ]
    }
   ],
   "source": [
    "T = int(input())\n",
    "for i in range(T):\n",
    "    N = int(input())\n",
    "    M = []\n",
    "    DP = [*map(lambda x: [x]*(N+1),[0]*(N+1))]\n",
    "    for j in range(1,N+1):\n",
    "        temp = [*map(int, input().split())]\n",
    "        M.append(temp)\n",
    "    count = 0\n",
    "    for i in range(0,N):\n",
    "        for j in range(0,N):\n",
    "            for k in range(i,N):\n",
    "                for l in range(j,N):\n",
    "                    if(M[k][l]<M[i][j]):\n",
    "                        count+=1\n",
    "\n",
    "    print(count)"
   ]
  },
  {
   "cell_type": "markdown",
   "metadata": {},
   "source": [
    "# Cyclic shift (incomplete)\n",
    "A large binary number is represented by a string A of size N and comprises of 0s and 1s. You must perform a cyclic shift on this string. The cyclic shift operation is defined as follows:  \n",
    "If the string A is $[A_{0},A_{1},...,A_{N-1}]$, then after performing one cyclic shift, the string becomes $[A_{1},A_{2},...,A_{N-1},A_{0}]$.  \n",
    "You performed the shift infinite number of times and each time you recorded the value of the binary number represented by the string. The maximum binary number formed after performing (possibly 0) the operation is B. Your task is to determine the number of cyclic shifts that can be performed such that the value represented by the string $A$ will be equal to $B$ for the $K^{th}$ time.  \n",
    "\n",
    "Input format\n",
    "- First line: A single integer $T$ denoting the number of test cases  \n",
    "- For each test case:  \n",
    "    - First line: Two space-separated integers $N$ and $K$  \n",
    "    - Second line:  denoting the string  \n",
    "    \n",
    "Output format \n",
    "\n",
    "For each test case, print a single line containing one integer that represents the number of cyclic shift operations performed such that the value represented by string $A$ is equal to $B$ for the $K^{th}$ time."
   ]
  },
  {
   "cell_type": "code",
   "execution_count": null,
   "metadata": {},
   "outputs": [],
   "source": [
    "def iterate_once(N,K,A,count,idx,d,B):\n",
    "    for j in range(N):\n",
    "        decimal = int(A,2)\n",
    "        if(decimal>B):\n",
    "            idx = j\n",
    "            B = decimal\n",
    "            count = 1\n",
    "            d.clear()\n",
    "            d[count]=j\n",
    "        elif(decimal == B):\n",
    "            count+=1\n",
    "            d[count]=j\n",
    "        if(count == K):\n",
    "            print(j)\n",
    "            return(-1,None,None,None)\n",
    "        #print(f\"max = {B}, decimal = {decimal}, count = {count}, count_to_K={count_to_K}\")\n",
    "        A = A[1:N]+A[0]\n",
    "    return(1,count,idx,d)\n",
    "\n",
    "T = int(input())\n",
    "for i in range(T):\n",
    "    N,K = [*map(int ,input().split())]\n",
    "    A = input()\n",
    "    B = -10000005\n",
    "    count = 0\n",
    "    idx = -1\n",
    "    d = {}\n",
    "    res, count, idx, d = iterate_once(N,K,A,count,idx,d,B)\n",
    "    #f(res != -1):\n",
    "        \n",
    "    #res = round(K/(2**count)*(N-1))*((count<K)*1)+(d[1])\n",
    "    print(count,idx,d)"
   ]
  }
 ],
 "metadata": {
  "kernelspec": {
   "display_name": "Python 3",
   "language": "python",
   "name": "python3"
  },
  "language_info": {
   "codemirror_mode": {
    "name": "ipython",
    "version": 3
   },
   "file_extension": ".py",
   "mimetype": "text/x-python",
   "name": "python",
   "nbconvert_exporter": "python",
   "pygments_lexer": "ipython3",
   "version": "3.8.3"
  }
 },
 "nbformat": 4,
 "nbformat_minor": 4
}
