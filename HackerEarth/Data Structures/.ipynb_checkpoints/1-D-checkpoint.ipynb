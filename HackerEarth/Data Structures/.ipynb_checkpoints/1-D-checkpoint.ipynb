{
 "cells": [
  {
   "cell_type": "markdown",
   "metadata": {},
   "source": [
    "# Print Array in Reverse\n",
    "Given the size and the elements of array A, print all the elements in reverse order.\n",
    "\n",
    "Input:\n",
    "First line of input contains, N - size of the array.\n",
    "Following N lines, each contains one integer, i{th} element of the array i.e. A[i].\n",
    "\n",
    "Output:\n",
    "Print all the elements of the array in reverse order, each element in a new line."
   ]
  },
  {
   "cell_type": "code",
   "execution_count": 1,
   "metadata": {
    "scrolled": true
   },
   "outputs": [
    {
     "name": "stdout",
     "output_type": "stream",
     "text": [
      "5\n",
      "1\n",
      "2\n",
      "3\n",
      "4\n",
      "5\n",
      "5\n",
      "4\n",
      "3\n",
      "2\n",
      "1\n"
     ]
    }
   ],
   "source": [
    "N = int(input())\n",
    "arr = []\n",
    "for i in range(N):\n",
    "    arr.append(int(input()))\n",
    "arr = arr[::-1]\n",
    "for i in arr:\n",
    "    print(i)"
   ]
  },
  {
   "cell_type": "markdown",
   "metadata": {},
   "source": [
    "# Bracket sequences\n",
    "A bracket sequence is a string that contains only characters '(' and ')'.\n",
    "\n",
    "A correct bracket sequence is a bracket sequence that can be transformed into a correct arithmetic expression by inserting characters '1' and '+' between the original characters of the sequence. For example, bracket sequences '()()' and '(())' are correct. The resulting expressions of these sequences are: '(1)+(1)' and '((1+1)+1)'. However, '(', ')(', and '(' are incorrect bracket sequences. \n",
    "\n",
    "You are given a bracket sequence $s(s_{1},s_{2},...,s_{n})$, where $s_{i}$ denotes the type of $i$'s bracket (open or close). It is not mandatory that $s$ is necessarily correct. Your task is to determine the number of $i$'s such that $s_{i}s_{i+1}...s_{n}s_{1}s_{2}...s_{i-1}$ is a correct bracket sequence.\n",
    "\n",
    "Input format  \n",
    "The single line contains sequence .\n",
    "\n",
    "Output format   \n",
    "Print the number of shifts denoting the correct bracket sequence."
   ]
  },
  {
   "cell_type": "code",
   "execution_count": 22,
   "metadata": {},
   "outputs": [
    {
     "name": "stdout",
     "output_type": "stream",
     "text": [
      ")()()()(\n",
      "4\n"
     ]
    }
   ],
   "source": [
    "def solve(s):\n",
    "    p=0\n",
    "    t=0\n",
    "    res = 0\n",
    "    for i in s:\n",
    "        if(i=='('):\n",
    "            p+=1\n",
    "        else:\n",
    "            p-=1;\n",
    "        if (p<t):\n",
    "            t=p\n",
    "            res = 0\n",
    "        if(t==p):\n",
    "            res+=1\n",
    "    if p:\n",
    "        return 0\n",
    "    else:\n",
    "        return res\n",
    "s= input()\n",
    "print(solve(s))"
   ]
  },
  {
   "cell_type": "code",
   "execution_count": null,
   "metadata": {},
   "outputs": [],
   "source": []
  }
 ],
 "metadata": {
  "kernelspec": {
   "display_name": "Python 3",
   "language": "python",
   "name": "python3"
  },
  "language_info": {
   "codemirror_mode": {
    "name": "ipython",
    "version": 3
   },
   "file_extension": ".py",
   "mimetype": "text/x-python",
   "name": "python",
   "nbconvert_exporter": "python",
   "pygments_lexer": "ipython3",
   "version": "3.8.3"
  }
 },
 "nbformat": 4,
 "nbformat_minor": 4
}
