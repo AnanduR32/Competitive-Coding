{
 "cells": [
  {
   "cell_type": "markdown",
   "metadata": {},
   "source": [
    "# Monk and inversion \n",
    "Monk's best friend Micro, who happen to be an awesome programmer, got him an integer matrix M of size  for his birthday. Monk is taking coding classes from Micro. They have just completed array inversions and Monk was successful in writing a program to count the number of inversions in an array. Now, Micro has asked Monk to find out the number of inversion in the matrix M. Number of inversions, in a matrix is defined as the number of unordered pairs of cells  such that .\n",
    "Monk is facing a little trouble with this task and since you did not got him any birthday gift, you need to help him with this task.  \n",
    "Input:  \n",
    "First line consists of a single integer T denoting the number of test cases.\n",
    "First line of each test case consists of one integer denoting N. Following N lines consists of N space separated integers denoting the matrix M.  \n",
    "\n",
    "Output:  \n",
    "Print the answer to each test case in a new line.  \n",
    "\n",
    "Constraints:   \n",
    "1<=T<=100   \n",
    "1<=N<=20  \n",
    "\n",
    "Sample Input   \n",
    "\n",
    "```\n",
    "2\n",
    "3\n",
    "1 2 3\n",
    "4 5 6\n",
    "7 8 9\n",
    "2\n",
    "4 3\n",
    "1 4\n",
    "```\n",
    "\n",
    "Sample Output\n",
    "\n",
    "```\n",
    "0\n",
    "2\n",
    "```"
   ]
  },
  {
   "cell_type": "code",
   "execution_count": 1,
   "metadata": {},
   "outputs": [
    {
     "name": "stdout",
     "output_type": "stream",
     "text": [
      "3\n",
      "3\n",
      "1 2 3\n",
      "4 5 6\n",
      "7 8 9\n",
      "0\n",
      "3\n",
      "9 8 7\n",
      "6 5 4\n",
      "3 2 1\n",
      "27\n",
      "2\n",
      "4 3 \n",
      "1 4\n",
      "2\n"
     ]
    }
   ],
   "source": [
    "T = int(input())\n",
    "for i in range(T):\n",
    "    N = int(input())\n",
    "    M = []\n",
    "    DP = [*map(lambda x: [x]*(N+1),[0]*(N+1))]\n",
    "    for j in range(1,N+1):\n",
    "        temp = [*map(int, input().split())]\n",
    "        M.append(temp)\n",
    "    count = 0\n",
    "    for i in range(0,N):\n",
    "        for j in range(0,N):\n",
    "            for k in range(i,N):\n",
    "                for l in range(j,N):\n",
    "                    if(M[k][l]<M[i][j]):\n",
    "                        count+=1\n",
    "\n",
    "    print(count)"
   ]
  },
  {
   "cell_type": "code",
   "execution_count": null,
   "metadata": {},
   "outputs": [],
   "source": []
  }
 ],
 "metadata": {
  "kernelspec": {
   "display_name": "Python 3",
   "language": "python",
   "name": "python3"
  },
  "language_info": {
   "codemirror_mode": {
    "name": "ipython",
    "version": 3
   },
   "file_extension": ".py",
   "mimetype": "text/x-python",
   "name": "python",
   "nbconvert_exporter": "python",
   "pygments_lexer": "ipython3",
   "version": "3.8.3"
  }
 },
 "nbformat": 4,
 "nbformat_minor": 4
}
