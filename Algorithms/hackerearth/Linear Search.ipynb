{
 "cells": [
  {
   "cell_type": "markdown",
   "metadata": {},
   "source": [
    "# Last occurance\n",
    "You have been given an array of size N consisting of integers. In addition you have been given an element M you need to find and print the index of the last occurrence of this element M in the array if it exists in it, otherwise print -1. Consider this array to be 1 indexed.  \n",
    "\n",
    "Input Format:  \n",
    "\n",
    "The first line consists of 2 integers N and M denoting the size of the array and the element to be searched for in the array respectively . The next line contains N space separated integers denoting the elements of of the array.  \n",
    "\n",
    "Output Format  \n",
    "\n",
    "Print a single integer denoting the index of the last occurrence of integer M in the array if it exists, otherwise print -1.  "
   ]
  },
  {
   "cell_type": "code",
   "execution_count": 6,
   "metadata": {},
   "outputs": [
    {
     "name": "stdout",
     "output_type": "stream",
     "text": [
      "5 1\n",
      "1 2 3 1 4\n",
      "4\n"
     ]
    }
   ],
   "source": [
    "N, search_item = [int(_) for _ in input().split()]\n",
    "array = [int(_) for _ in input().split()]\n",
    "array = array[::-1]\n",
    "pos = -1\n",
    "for i in range(0,N):\n",
    "    if(array[i] == search_item):\n",
    "        pos = N-i\n",
    "        break\n",
    "if(pos!=-1):\n",
    "    print(pos)\n",
    "else:\n",
    "    print(\"Item not found\")"
   ]
  },
  {
   "cell_type": "markdown",
   "metadata": {},
   "source": [
    "# Easy Sum Set Problem\n",
    "In this problem, we define \"set\" is a collection of distinct numbers. For two sets A and B, we define their sum set is a set S(A,B) = {a+b|a in A, b in B}. In other word,  set S(A,B) contains all elements which can be represented as sum of an element in  A and an element in B. Given two sets A, C your task is to find set B of positive integers less than or equals 100 with maximum size such that S(A,B)=C. It is guaranteed that there is unique such set.\n",
    "\n",
    "Input Format\n",
    "\n",
    "The first line contains N denoting the number of elements in set A, the following line contains N space-separated integers  denoting the elements of set A.\n",
    "\n",
    "The third line contains M denoting the number of elements in set C, the following line contains M space-separated integers  denoting the elements of set C.\n",
    "\n",
    "Output Format\n",
    "\n",
    "Print all elements of B in increasing order in a single line, separated by space."
   ]
  },
  {
   "cell_type": "code",
   "execution_count": 5,
   "metadata": {},
   "outputs": [
    {
     "name": "stdout",
     "output_type": "stream",
     "text": [
      "3\n",
      "1 2 \n",
      "3 \n",
      "3 4 5\n",
      "2 3 "
     ]
    }
   ],
   "source": [
    "N = int(input())\n",
    "A = [int(_) for _ in input().split()]\n",
    "M = int(input())\n",
    "C = [int(_) for _ in input().split()]\n",
    "possible_B = [abs(c-a) for c in C for a in A]\n",
    "B = possible_B.copy()\n",
    "for B_iter in possible_B:\n",
    "    for A_iter in A:\n",
    "        if(A_iter+B_iter not in C):\n",
    "            B.remove(B_iter)\n",
    "            break\n",
    "B = list(set(B))\n",
    "for _ in B:\n",
    "    print(_,end=\" \")"
   ]
  },
  {
   "cell_type": "markdown",
   "metadata": {},
   "source": [
    "# Counting Frog Paths\n",
    "There is a frog initially placed at the origin of the coordinate plane. In exactly  second, the frog can either move up  unit, move right  unit, or stay still. In other words, from position , the frog can spend  second to move to:  \n",
    "- (X+1,Y)  \n",
    "- (X,Y+1)  \n",
    "- (X,Y)\n",
    "\n",
    "After T seconds, a villager who sees the frog reports that the frog lies on or inside a square of side-length  with coordinates (X,Y), (X+s,Y), (X,Y+s), (X+s,Y+s). Calculate how many points with integer coordinates on or inside this square could be the frog's position after exactly  seconds\n",
    "\n",
    "Input Format:\n",
    "\n",
    "The first and only line of input contains four space-separated integers: X, Y, s, and T.\n",
    "\n",
    "Output Format:\n",
    "\n",
    "Print the number of points with integer coordinates that could be the frog's position after T seconds."
   ]
  },
  {
   "cell_type": "code",
   "execution_count": 4,
   "metadata": {},
   "outputs": [
    {
     "name": "stdout",
     "output_type": "stream",
     "text": [
      "2 2 3 6\n",
      "6\n"
     ]
    }
   ],
   "source": [
    "X,Y,s,T = [int(_) for _ in input().split()]\n",
    "count = 0\n",
    "for i in range(X,X+s+1):\n",
    "    for j in range(Y,Y+s+1):\n",
    "        if((i+j)<=T):\n",
    "            count+=1\n",
    "print(count)"
   ]
  },
  {
   "cell_type": "markdown",
   "metadata": {},
   "source": [
    "# Rest in peace - 21-1!\n",
    "The grandest stage of all, Wrestlemania XXX recently happened. And with it, happened one of the biggest heartbreaks for the WWE fans around the world. The Undertaker's undefeated streak was finally over.  \n",
    "\n",
    "Now as an Undertaker fan, you're disappointed, disheartened and shattered to pieces. And Little Jhool doesn't want to upset you in any way possible. (After all you are his only friend, true friend!) Little Jhool knows that you're still sensitive to the loss, so he decides to help you out.  \n",
    "\n",
    "Every time you come across a number, Little Jhool carefully manipulates it. He doesn't want you to face numbers which have \"21\" as a part of them. Or, in the worst case possible, are divisible by 21.  \n",
    "\n",
    "If you end up facing such a number you feel sad... and no one wants that - because you start chanting \"The streak is broken!\" , if the number doesn't make you feel sad, you say, \"The streak lives still in our heart!\"  \n",
    "\n",
    "Help Little Jhool so that he can help you!\n",
    "\n",
    "Input Format:  \n",
    "The first line contains a number, t, denoting the number of test cases.  \n",
    "After that, for t lines there is one number in every line.  \n",
    "\n",
    "Output Format:  \n",
    "Print the required string, depending on how the number will make you feel.  "
   ]
  },
  {
   "cell_type": "code",
   "execution_count": 7,
   "metadata": {
    "scrolled": true
   },
   "outputs": [
    {
     "name": "stdout",
     "output_type": "stream",
     "text": [
      "3\n",
      "121\n",
      "The streak is broken!\n",
      "120\n",
      "The streak lives still in our heart!\n",
      "231\n",
      "The streak is broken!\n"
     ]
    }
   ],
   "source": [
    "T = int(input())\n",
    "for i in range(T):\n",
    "    flag=0\n",
    "    input_ = int(input())\n",
    "    if(input_%21==0 or '21' in str(input_)):\n",
    "        print(\"The streak is broken!\")\n",
    "    else:\n",
    "        print(\"The streak lives still in our heart!\")"
   ]
  },
  {
   "cell_type": "markdown",
   "metadata": {},
   "source": [
    "# Policemen and thieves \n",
    "You are given a grid of size N x N that has the following specifications:  \n",
    "\n",
    "Each cell in the grid contains either a policeman or a thief.  \n",
    "A policeman can only catch a thief if both of them are in the same row.  \n",
    "Each policeman can only catch one thief.  \n",
    "A policeman cannot catch a thief who is more than K units away from the policeman.  \n",
    "Write a program to find the maximum number of thieves that can be caught in the grid.  \n",
    "\n",
    "Input format  \n",
    "\n",
    "First line: T (number of test cases)  \n",
    "For each test case  \n",
    "First line: Two space-separated integers N and K  \n",
    "Next N lines: N space-separated characters (denoting each cell in the grid)  \n",
    "Output format  \n",
    "\n",
    "For each test case, print the maximum number of thieves that can be caught in the grid.  "
   ]
  },
  {
   "cell_type": "markdown",
   "metadata": {},
   "source": [
    "### Solution 1: (27/30)"
   ]
  },
  {
   "cell_type": "code",
   "execution_count": 8,
   "metadata": {},
   "outputs": [
    {
     "name": "stdout",
     "output_type": "stream",
     "text": [
      "1\n",
      "3 1\n",
      "P T P\n",
      "T P T\n",
      "T T P\n",
      "3\n"
     ]
    }
   ],
   "source": [
    "def solution (A, K, N):\n",
    "    # Write your code here\n",
    "    count = 0\n",
    "    for i in range(N):\n",
    "        queue = []\n",
    "        for j in range(N):\n",
    "            if not queue:\n",
    "                queue.append(A[i][j])\n",
    "                continue\n",
    "            if(A[i][j] not in queue[-1]):\n",
    "                del queue[-1]\n",
    "                count+=1\n",
    "            elif(A[i][j] in queue[0]):\n",
    "                queue.append(A[i][j])\n",
    "                if(len(queue)>K):\n",
    "                    del queue[0]\n",
    "    return(count)\n",
    "\n",
    "\n",
    "T = int(input())\n",
    "for _ in range(T):\n",
    "    N, K = map(int, input().split())\n",
    "    A = []\n",
    "    for _ in range(N):\n",
    "        A.append(input().split())\n",
    "    out_ = solution(A, K, N)\n",
    "    print (out_)"
   ]
  },
  {
   "cell_type": "code",
   "execution_count": null,
   "metadata": {},
   "outputs": [],
   "source": []
  }
 ],
 "metadata": {
  "kernelspec": {
   "display_name": "Python 3",
   "language": "python",
   "name": "python3"
  },
  "language_info": {
   "codemirror_mode": {
    "name": "ipython",
    "version": 3
   },
   "file_extension": ".py",
   "mimetype": "text/x-python",
   "name": "python",
   "nbconvert_exporter": "python",
   "pygments_lexer": "ipython3",
   "version": "3.8.3"
  }
 },
 "nbformat": 4,
 "nbformat_minor": 4
}
