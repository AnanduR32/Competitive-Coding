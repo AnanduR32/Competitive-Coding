{
 "cells": [
  {
   "cell_type": "markdown",
   "metadata": {},
   "source": [
    "# To Military Time Format\n",
    "\n",
    "Convert the given time which is in 12Hr format to military(24Hr) format"
   ]
  },
  {
   "cell_type": "code",
   "execution_count": null,
   "metadata": {},
   "outputs": [],
   "source": [
    "l = ['07895462130', '919875641230', '919596987']\n",
    "n = 3"
   ]
  },
  {
   "cell_type": "code",
   "execution_count": null,
   "metadata": {},
   "outputs": [],
   "source": [
    "nList = []\n",
    "finalList = []\n",
    "for i in range(len(l)):\n",
    "    temp = l[i][(len(l[i])-10):]\n",
    "    nList.append(temp)\n",
    "for i in range(len(l)):\n",
    "    min_idx = i\n",
    "    for j in range(i+1,len(l)):\n",
    "        if(nList[min_idx]>nList[j]):\n",
    "            min_idx = j\n",
    "    nList[i], nList[min_idx] = nList[min_idx], nList[i]\n",
    "for i in range(len(l)):\n",
    "    temp = '+91 '+nList[i][0:5]+' '+nList[i][5:10]\n",
    "    print(temp)"
   ]
  },
  {
   "cell_type": "code",
   "execution_count": null,
   "metadata": {},
   "outputs": [],
   "source": [
    "s = \"07:05:45PM\""
   ]
  },
  {
   "cell_type": "code",
   "execution_count": null,
   "metadata": {},
   "outputs": [],
   "source": [
    "n = list(map(str,s.split(':')))\n",
    "n.append(n[2][2:])\n",
    "n[2] = n[2][:2]\n"
   ]
  },
  {
   "cell_type": "code",
   "execution_count": null,
   "metadata": {},
   "outputs": [],
   "source": [
    "if(n[3] == 'PM'):\n",
    "    n[0] = str(int(n[0])+12)\n",
    "':'.join(n[0:3])    "
   ]
  },
  {
   "cell_type": "markdown",
   "metadata": {},
   "source": [
    "# Sherlock and Cost"
   ]
  },
  {
   "cell_type": "code",
   "execution_count": null,
   "metadata": {},
   "outputs": [],
   "source": [
    "def cost(B):\n",
    "    l = len(B)\n",
    "    if(l<1):\n",
    "        return(0)\n",
    "    dp = [*map(lambda x: [x]*l, [0]*2)]\n",
    "    for i in range(1, len(B)):\n",
    "        add_1 = max(dp[0][i-1], dp[1][i-1] + B[i - 1] - 1)\n",
    "        add_B = max(dp[0][i-1] + B[i] - 1, dp[1][i-1] + abs(B[i] - B[i - 1]))\n",
    "        dp[0][i] = add_1\n",
    "        dp[1][i] = add_B\n",
    "        print(add_1,add_B)\n",
    "    return(max(dp[0][-1],dp[1][-1]))"
   ]
  },
  {
   "cell_type": "code",
   "execution_count": null,
   "metadata": {},
   "outputs": [],
   "source": [
    "B = [4,7,12]"
   ]
  },
  {
   "cell_type": "code",
   "execution_count": null,
   "metadata": {},
   "outputs": [],
   "source": [
    "cost(B)"
   ]
  },
  {
   "cell_type": "markdown",
   "metadata": {},
   "source": [
    "# Coin change"
   ]
  },
  {
   "cell_type": "markdown",
   "metadata": {},
   "source": [
    "Iterative method #1"
   ]
  },
  {
   "cell_type": "code",
   "execution_count": 3,
   "metadata": {},
   "outputs": [],
   "source": [
    "def getWaysIter(n, c):\n",
    "    m = len(c)\n",
    "    M = [* map(lambda x: [x]*(n+1),[0]*(m+1))]\n",
    "    for i in range(m+1):\n",
    "        M[i][0] = 1\n",
    "    for i in range(1,m+1): \n",
    "        for j in range(1, n+1):\n",
    "            M[i][j] += M[i-1][j]\n",
    "            if(j>= c[i-1]):\n",
    "                M[i][j] += M[i][j-c[i-1]]\n",
    "    return(M[m][n])"
   ]
  },
  {
   "cell_type": "code",
   "execution_count": 4,
   "metadata": {},
   "outputs": [
    {
     "name": "stdout",
     "output_type": "stream",
     "text": [
      "5\n",
      "3\n"
     ]
    }
   ],
   "source": [
    "print(getWaysIter(10,[2, 5, 3, 6]))\n",
    "print(getWaysIter(4,[1,2]))"
   ]
  },
  {
   "cell_type": "markdown",
   "metadata": {},
   "source": [
    "Iterative method #2 **MUCH SIMPLER**"
   ]
  },
  {
   "cell_type": "code",
   "execution_count": 32,
   "metadata": {},
   "outputs": [],
   "source": [
    "def getWaysIter2(n,c):\n",
    "    M = [0]*(n+1)\n",
    "    M[0]=1\n",
    "    for coin in c:\n",
    "        for amount in range(1,n+1):\n",
    "            if(amount>=coin):\n",
    "                M[amount] += M[amount - coin]\n",
    "    return(M[n])"
   ]
  },
  {
   "cell_type": "code",
   "execution_count": 33,
   "metadata": {},
   "outputs": [
    {
     "name": "stdout",
     "output_type": "stream",
     "text": [
      "5\n",
      "3\n"
     ]
    }
   ],
   "source": [
    "print(getWaysIter2(10,[2, 5, 3, 6]))\n",
    "print(getWaysIter2(4,[1,2]))"
   ]
  },
  {
   "cell_type": "markdown",
   "metadata": {},
   "source": [
    "Recursive method"
   ]
  },
  {
   "cell_type": "code",
   "execution_count": 5,
   "metadata": {},
   "outputs": [],
   "source": [
    "def getWaysRecr(n,c):\n",
    "    m = len(c)\n",
    "    M = [*map(lambda x: [x]*(n+1),[0]*(m))]\n",
    "    for i in M:\n",
    "        i[0] = 1\n",
    "    return(getWaysRecrSub(n,c,0))\n",
    "def getWaysRecrSub(n, c, curr_c):\n",
    "    if(n==0):\n",
    "        return(1)\n",
    "    if(n<0):\n",
    "        return(0)\n",
    "    count = 0\n",
    "    for coin in range(curr_c,len(c)):\n",
    "        count+=(getWaysRecrSub(n-c[coin], c, coin))\n",
    "    return(count)\n"
   ]
  },
  {
   "cell_type": "code",
   "execution_count": 6,
   "metadata": {},
   "outputs": [
    {
     "name": "stdout",
     "output_type": "stream",
     "text": [
      "5\n",
      "3\n"
     ]
    }
   ],
   "source": [
    "import sys\n",
    "print(getWaysRecr(10,[2, 5, 3, 6]))\n",
    "print(getWaysRecr(4,[1,2]))"
   ]
  },
  {
   "cell_type": "markdown",
   "metadata": {},
   "source": [
    "# Unbounded Knapsack\n",
    "\n",
    "Given an array of integers and a target sum, determine the sum nearest to but not exceeding the target that can be created. To create the sum, use any element of your array zero or more times.\n",
    "\n",
    "For example, if **arr = [2,3,4]** and your target sum is **10**, you might select **[2,2,2,2,2]**, **[2,2,3,3]** or **[3,3,3,1]**. In this case, you can arrive at exactly the target.\n",
    "\n",
    "**Function Description**  \n",
    "Complete the unboundedKnapsack function in the editor below. It must return an integer that represents the sum nearest to without exceeding the target value.\n",
    "\n",
    "unboundedKnapsack has the following parameter(s):  \n",
    "k: an integer\n",
    "arr: an array of integers"
   ]
  },
  {
   "cell_type": "code",
   "execution_count": 34,
   "metadata": {},
   "outputs": [],
   "source": [
    "def unboundedKnapsack(k, arr):\n",
    "    m = len(arr)\n",
    "    n = k\n",
    "    M = [*map(lambda x: [x]*(n+1), [0]*(m+1))]\n",
    "    # for i in range(m+1):\n",
    "    #     M[i][0] = 1\n",
    "    for i in range(1,m+1):\n",
    "        for j in range(1,n+1):\n",
    "            if(j>=arr[i-1]):\n",
    "                M[i][j] = max(arr[i-1]+M[i][j-arr[i-1]],M[i-1][j])\n",
    "            else:\n",
    "                M[i][j] += M[i-1][j]\n",
    "    print(M)\n",
    "    return(M[m][n])"
   ]
  },
  {
   "cell_type": "code",
   "execution_count": 35,
   "metadata": {},
   "outputs": [],
   "source": [
    "k = 5\n",
    "arr = [2,3,4]"
   ]
  },
  {
   "cell_type": "code",
   "execution_count": 36,
   "metadata": {},
   "outputs": [
    {
     "name": "stdout",
     "output_type": "stream",
     "text": [
      "[[0, 0, 0, 0, 0, 0], [0, 0, 2, 2, 4, 4], [0, 0, 2, 3, 4, 5], [0, 0, 2, 3, 4, 5]]\n"
     ]
    },
    {
     "data": {
      "text/plain": [
       "5"
      ]
     },
     "execution_count": 36,
     "metadata": {},
     "output_type": "execute_result"
    }
   ],
   "source": [
    "unboundedKnapsack(k,arr)"
   ]
  },
  {
   "cell_type": "markdown",
   "metadata": {},
   "source": [
    "# Sherlock and Array\n",
    "\n",
    "Watson gives Sherlock an array of integers. His challenge is to find an element of the array such that the sum of all elements to the left is equal to the sum of all elements to the right. For instance, given the array **arr = [5,6,8,11]**, **8**  is between two subarrays that sum to **11**. If your starting array is **[1]**, that element satisfies the rule as left and right sum to **0**.\n",
    "\n",
    "You will be given arrays of integers and must determine whether there is an element that meets the criterion.\n",
    "\n",
    "**Function Description**\n",
    "\n",
    "Complete the balancedSums function in the editor below. It should return a string, either YES if there is an element meeting the criterion or NO otherwise.\n",
    "\n",
    "balancedSums has the following parameter(s):\n",
    "\n",
    "arr: an array of integers"
   ]
  },
  {
   "cell_type": "code",
   "execution_count": null,
   "metadata": {},
   "outputs": [],
   "source": [
    "def solve(arr):\n",
    "    m = len(arr)\n",
    "    if(m == 1):\n",
    "        return('YES')\n",
    "    if(m == 2):\n",
    "        if(0 in arr):\n",
    "            return('YES')\n",
    "    left, right, curr = 0, sum(arr[1:]),  arr[0]\n",
    "    for i in range(1,m):\n",
    "        if(left == right):\n",
    "            return('YES')\n",
    "        left += curr\n",
    "        curr = arr[i]\n",
    "        right -= curr\n",
    "    return('NO')"
   ]
  },
  {
   "cell_type": "code",
   "execution_count": null,
   "metadata": {},
   "outputs": [],
   "source": [
    "solve([2,3,4,5])"
   ]
  },
  {
   "cell_type": "markdown",
   "metadata": {},
   "source": [
    "# Maximum Subarray\n",
    "\n",
    "Given an array of elements find the subarray and subsequence that have the maximum sum\n",
    "A subarray has to be continuous sequence of elements in the original array, whereas the subsequence can be any combination of elements within the original array"
   ]
  },
  {
   "cell_type": "code",
   "execution_count": null,
   "metadata": {},
   "outputs": [],
   "source": [
    "arr = [2, -3, -1, 9, -4, 6]\n",
    "maxSubarray(arr)"
   ]
  },
  {
   "cell_type": "code",
   "execution_count": null,
   "metadata": {},
   "outputs": [],
   "source": [
    "def maxSubarray(arr):\n",
    "    m = len(arr)\n",
    "    currMaxSubArray = maxSubArray = arr[0]\n",
    "    currMaxSequence = maxSequence = 0\n",
    "    for i in range(1,m):\n",
    "        currMaxSubArray = max(arr[i],arr[i]+currMaxSubArray)\n",
    "        if(currMaxSubArray>maxSubArray):\n",
    "            maxSubArray = currMaxSubArray\n",
    "    change = 0\n",
    "    for i in arr:\n",
    "        if(i>0):\n",
    "            largestSequence.append(i)\n",
    "            change = 1\n",
    "    if(change == 1):\n",
    "        maxSequence = sum(largestSequence)\n",
    "    else:\n",
    "        maxSequence = max(arr)\n",
    "    print(maxSubArray,maxSequence)"
   ]
  },
  {
   "cell_type": "markdown",
   "metadata": {},
   "source": [
    "# Equal"
   ]
  },
  {
   "cell_type": "markdown",
   "metadata": {},
   "source": [
    "Method #1"
   ]
  },
  {
   "cell_type": "code",
   "execution_count": 39,
   "metadata": {},
   "outputs": [],
   "source": [
    "import itertools\n",
    "def equal(arr):\n",
    "    m = len(arr)\n",
    "    count=0\n",
    "    min_ = min(arr)\n",
    "    arr = [x - y for x, y in zip(arr, itertools.cycle([min(arr)]))]\n",
    "    while(min(arr)!=max(arr)):\n",
    "        max_val = (max([(x-y) for (x,y) in itertools.product(arr,arr)]))\n",
    "        max_idx = arr.index(max(arr))\n",
    "        change = 0\n",
    "        for i in range(m):\n",
    "            if(i!=max_idx):\n",
    "                arr[i]+=max_val\n",
    "                change = 1\n",
    "        if(change == 1):\n",
    "            count+=1            \n",
    "    return(count)"
   ]
  },
  {
   "cell_type": "code",
   "execution_count": 40,
   "metadata": {},
   "outputs": [
    {
     "data": {
      "text/plain": [
       "2"
      ]
     },
     "execution_count": 40,
     "metadata": {},
     "output_type": "execute_result"
    }
   ],
   "source": [
    "arr = [10,7,12]\n",
    "equal(arr)"
   ]
  },
  {
   "cell_type": "markdown",
   "metadata": {},
   "source": [
    "Method #2"
   ]
  },
  {
   "cell_type": "code",
   "execution_count": 41,
   "metadata": {},
   "outputs": [],
   "source": [
    "def equal(arr):\n",
    "    MIN = min(arr)\n",
    "    ans = float('inf')\n",
    "    for i in range(5):\n",
    "        dec = MIN - i\n",
    "        cur = sum([(n-dec)//5 + (n-dec)%5//2 + (n-dec)%5%2 for n in arr])\n",
    "        ans = min(ans, cur)\n",
    "    return ans"
   ]
  },
  {
   "cell_type": "code",
   "execution_count": 42,
   "metadata": {},
   "outputs": [
    {
     "data": {
      "text/plain": [
       "3"
      ]
     },
     "execution_count": 42,
     "metadata": {},
     "output_type": "execute_result"
    }
   ],
   "source": [
    "arr = [10,7,12]\n",
    "equal(arr)"
   ]
  },
  {
   "cell_type": "markdown",
   "metadata": {},
   "source": [
    "# Finding the prime longest increasing subsequence \n",
    "Given an array of elements, perform either of the given actions:\n",
    "- replace the element with the smallest prime number greater than the value of the given element\n",
    "- replace the element with the largest prime number lesser than the value of the given element\n",
    "- if given element is a prime number do nothing\n",
    "\n",
    "Using dynamic programming find the most optimal replacements that will yield the longest increasing subsequence"
   ]
  },
  {
   "cell_type": "code",
   "execution_count": null,
   "metadata": {},
   "outputs": [],
   "source": [
    "\n",
    "def isPrime(num):\n",
    "    if(num==2 or num==3):\n",
    "        return(1)\n",
    "    if(num<2) or (num%2 ==0):\n",
    "        return(0)\n",
    "    if(num<9):\n",
    "        return(1)\n",
    "    if(num%3 == 0):\n",
    "        return(0)\n",
    "    r = int(num**0.5)\n",
    "    f = 5\n",
    "    while(f<=r):\n",
    "        if(n%f==0):\n",
    "            return(0)\n",
    "        if(n%(f+2)==0):\n",
    "            return(0)\n",
    "        f+=6\n",
    "    return(1)\n",
    "\n",
    "def findPrev(n):\n",
    "    while(1):\n",
    "        n -= 1\n",
    "        if(isPrime(n)):\n",
    "            return(n)\n",
    "def findNext(n):\n",
    "    while(1):\n",
    "        n += 1\n",
    "        if(isPrime(n)):\n",
    "            return(n)\n",
    "\n",
    "def solution(arr):\n",
    "    n = len(arr)\n",
    "    M = [*map(lambda x: [x]*(n+1),[0]*3)]\n",
    "    DP = [*map(lambda x: [x]*(n+1),[0]*2)]\n",
    "    for i in range(3):\n",
    "        M[i][0] = 0\n",
    "    for i in range(1,n+1):\n",
    "        M[1][i] = arr[i-1]\n",
    "    for i in range(1,n+1):\n",
    "        if(isPrime(M[1][i])):\n",
    "            M[0][i] = M[2][i] = M[1][i]\n",
    "            continue\n",
    "        M[0][i] = findPrev(M[1][i])\n",
    "        M[2][i] = findNext(M[1][i])\n",
    "    for i in range(1,n+1):\n",
    "        for j in range(0,i):\n",
    "            if(M[0][i]>M[0][j] and DP[0][i]<DP[0][j]+1):\n",
    "                DP[0][i] = DP[0][j]+1\n",
    "    for i in range(1,n+1):\n",
    "        for j in range(0,i):\n",
    "            if(M[2][i]>M[2][j] and DP[1][i]<DP[1][j]+1):\n",
    "                DP[1][i] = DP[1][j]+1\n",
    "    maximum = 0\n",
    "    for i in range(1,n+1):\n",
    "        maximum = max(maximum,DP[0][i]) \n",
    "    for i in range(1,n+1):\n",
    "        maximum = max(maximum,DP[1][i]) \n",
    "    return(maximum)\n",
    "         \n",
    "        \n",
    "t = int(input())\n",
    "for i in range(t):\n",
    "    k = int(input())\n",
    "    arr = [map(int, input().split())]\n",
    "    result = solution(arr)\n",
    "    print(result)\n"
   ]
  },
  {
   "cell_type": "markdown",
   "metadata": {},
   "source": [
    "# Last occurance of an element\n",
    "\n",
    "Program to find the last occurance of an element in an array"
   ]
  },
  {
   "cell_type": "code",
   "execution_count": null,
   "metadata": {},
   "outputs": [],
   "source": [
    "def solution(n,k,arr):\n",
    "    for i in range(n-1,-1,-1):\n",
    "        if(k==arr[i]):\n",
    "            return(i)\n",
    "    return(-1)\n",
    "\n",
    "nk = [x for x in input().rstrip().split()]\n",
    "n,k = int(nk[0]),nk[1]\n",
    "arr = [x for x in input().rstrip().split()]\n",
    "result = solution(n,k,arr)\n",
    "print(result)"
   ]
  },
  {
   "cell_type": "markdown",
   "metadata": {},
   "source": [
    "# Hexadecimal numbers\n",
    "You are given a range [L,R]. You are required to find the number of integers  in the range such that **GCD(x,F(x))>1** where **F(x)** is equal to the sum of digits of **x** in its hexadecimal (or base 16) representation.  \n",
    "eg: **F(27)** = 1+B = 1+11 = 12  \n",
    "Note: **27** in hexadecimal form is written as \"**1B**\""
   ]
  },
  {
   "cell_type": "code",
   "execution_count": null,
   "metadata": {},
   "outputs": [],
   "source": [
    "import math\n",
    "\n",
    "def f(n):\n",
    "    n = hex(n)[2:]\n",
    "    sum = 0\n",
    "    for i in n:\n",
    "        sum += int(i,16)\n",
    "    return(sum)\n",
    "        \n",
    "t = int(input())\n",
    "for t_iter in range(t):\n",
    "    arr = list(map(int,input().split()))\n",
    "    l = len(arr)\n",
    "    count = 0\n",
    "    for i in range(arr[0],arr[1]+1):\n",
    "        if(math.gcd(i,f(i))>1):\n",
    "            count+=1\n",
    "    print(count)"
   ]
  },
  {
   "cell_type": "markdown",
   "metadata": {},
   "source": [
    "# Binary Search Rank of Query\n",
    "You have been given an array A consisting of N integers. All the elements in this array A are unique. You have to answer some queries based on the elements of this array. Each query will consist of a single integer x. You need to print the rank based position of this element in this array considering that the array is 1 indexed. The rank based position of an element in an array is its position in the array when the array has been sorted in ascending order."
   ]
  },
  {
   "cell_type": "code",
   "execution_count": null,
   "metadata": {},
   "outputs": [],
   "source": [
    "def binarySearch(n,low,high):\n",
    "    while(low<=high):\n",
    "        mid = (low+high)//2 \n",
    "        if(n==arr[mid]):\n",
    "            return(mid+1)\n",
    "        if(n>arr[mid]):\n",
    "            low = mid+1\n",
    "        elif(n<arr[mid]):\n",
    "            high = mid-1\n",
    "        else:\n",
    "            return(-1)\n",
    "\n",
    "N = int(input())\n",
    "arr = [int(x) for x in input().split()]\n",
    "arr.sort()\n",
    "t = int(input())\n",
    "low = 0\n",
    "high = len(arr)-1\n",
    "result = []\n",
    "for t_iter in range(t):\n",
    "    query = int(input())\n",
    "    rank = binarySearch(query,low,high)\n",
    "    result.append(rank)\n",
    "for r_iter in range(t):\n",
    "    print(result[r_iter])"
   ]
  },
  {
   "cell_type": "markdown",
   "metadata": {},
   "source": [
    "# C impress everyone\n",
    "\n",
    "Two people, A and B are playing a game. They have infinite stones. A starts the game and puts a1 stones in a stack. Then B adds a2 stones to the stack. A continues by adding a3 stones. This goes on till their friend, C enters and decides to show his intelligence and impress everyone by choosing a stone from top at random(He doesn't remove this stone) and then tell whose stone it was. He does this q times. Output whose stone it was (A or B) and help C impress his friends with correct answers."
   ]
  },
  {
   "cell_type": "code",
   "execution_count": null,
   "metadata": {},
   "outputs": [],
   "source": [
    "def stoneOwner(n,low,high):\n",
    "    while(low<=high):\n",
    "        mid = (low+high)//2 \n",
    "        if(n==stackOwner[mid]):\n",
    "            return(mid)\n",
    "        if(n>stackOwner[mid]):\n",
    "            low = mid+1\n",
    "        elif(n<stackOwner[mid]):\n",
    "            high = mid-1\n",
    "        else:\n",
    "            return(-1)\n",
    "\n",
    "N = int(input())\n",
    "arr = [int(x) for x in input().split()]\n",
    "\n",
    "char = ['A','B']\n",
    "\n",
    "stackOwner = []\n",
    "person = 0\n",
    "for put_iter in arr:\n",
    "    for n_puts in range(put_iter):\n",
    "        stackOwner.append(char[person])\n",
    "    person = (person+1)%2\n",
    "        \n",
    "\n",
    "low = 0\n",
    "high = len(stackOwner)-1\n",
    "result = []\n",
    "t = int(input())\n",
    "for t_iter in range(t):\n",
    "    query = int(input())\n",
    "    # who = stoneOwner(query,low,high)\n",
    "    who = stackOwner[query-1]\n",
    "    result.append(who)\n",
    "print(stackOwner)\n",
    "for r_iter in range(t):\n",
    "    print(result[r_iter])\n"
   ]
  },
  {
   "cell_type": "markdown",
   "metadata": {},
   "source": [
    "# Old Monk\n",
    "Big Chandan is a dire lover of Biryani, especially Old Monk's Biryani. Today, he went over to have some of it. To his surprise, the waiter turns out be to be a coding geek and refuses to serves him unless Chandu solves his two- arrays problem, stated as:\n",
    "\n",
    "Given two non-increasing array of integers A,B i.e **A[i] >= A[i+1]** and **B[i] >= B[i+1]** and for all **i**, **0 ≤ i < n-1**.\n",
    "\n",
    "The monkiness of two numbers is given by: **M (A[i],B[j])** = **j - i** , if **j >=i** and **B[j] >= A[i]**, or **0** otherwise.\n",
    "\n",
    "\n",
    "Find the monkiness of the two arrays, that is given by: **M (A,B)**= **max (M(A[i],B[j]))** for **0≤ i**, **j< n-1**."
   ]
  },
  {
   "cell_type": "code",
   "execution_count": null,
   "metadata": {},
   "outputs": [],
   "source": [
    "def monkCalc(A,B,size):\n",
    "    max_res = 0\n",
    "    res = 0\n",
    "    for i in range(size):\n",
    "        res = 0\n",
    "        for j in range(i,size):\n",
    "            if(B[j]>=A[i]):\n",
    "                res = j-i\n",
    "        if(res>max_res):\n",
    "            max_res = res\n",
    "    return(max_res)\n",
    "\n",
    "t = int(input())\n",
    "result = []\n",
    "for t_iter in range(t):\n",
    "    size = int(input())\n",
    "    A  = [int(x) for x in input().split()]\n",
    "    B  = [int(x) for x in input().split()]\n",
    "    monkiness = monkCalc(A,B,size)\n",
    "    result.append(monkiness)\n",
    "for r_iter in range(t):\n",
    "    print(result[r_iter])"
   ]
  },
  {
   "cell_type": "code",
   "execution_count": null,
   "metadata": {},
   "outputs": [],
   "source": []
  }
 ],
 "metadata": {
  "kernelspec": {
   "display_name": "Python 3",
   "language": "python",
   "name": "python3"
  },
  "language_info": {
   "codemirror_mode": {
    "name": "ipython",
    "version": 3
   },
   "file_extension": ".py",
   "mimetype": "text/x-python",
   "name": "python",
   "nbconvert_exporter": "python",
   "pygments_lexer": "ipython3",
   "version": "3.8.3"
  }
 },
 "nbformat": 4,
 "nbformat_minor": 4
}
