{
 "cells": [
  {
   "cell_type": "markdown",
   "metadata": {},
   "source": [
    "# Yogurt"
   ]
  },
  {
   "cell_type": "code",
   "execution_count": 17,
   "metadata": {},
   "outputs": [],
   "source": [
    "input_=\"\"\"1\n",
    "5 2\n",
    "1 2 3 5 10\"\"\""
   ]
  },
  {
   "cell_type": "code",
   "execution_count": 19,
   "metadata": {},
   "outputs": [
    {
     "name": "stdout",
     "output_type": "stream",
     "text": [
      "Case #1: 5\n"
     ]
    }
   ],
   "source": [
    "class Case:\n",
    "    def __init__(self, bought, limit_per_day, yogurt_expiration):\n",
    "        self.bought = bought\n",
    "        self.limit_per_day = limit_per_day\n",
    "        self.yogurt_expiration = sorted(yogurt_expiration)\n",
    "        self.consumed = 0\n",
    "    def consume(self):\n",
    "        day = 0\n",
    "        consumed_today = 0\n",
    "        for i in range(self.bought):\n",
    "            if(consumed_today ==self.limit_per_day):\n",
    "                day+=1\n",
    "                consumed_today=0\n",
    "            if(self.yogurt_expiration[i]>day):\n",
    "                consumed_today+=1\n",
    "                self.consumed+=1\n",
    "        return(self.consumed)\n",
    "in_ = input_.splitlines()\n",
    "t = int(in_[0])\n",
    "i = 1\n",
    "while(i<=2*t):\n",
    "    bought, limit_per_day = [int(x) for x in in_[i].split()]\n",
    "    i+=1\n",
    "    yogurt_expiration = [int(x) for x in in_[i].split()]\n",
    "    i+=1\n",
    "    case = Case(bought,limit_per_day,yogurt_expiration)\n",
    "    print(\"Case #{}: {}\".format(i//2, case.consume()))"
   ]
  },
  {
   "cell_type": "markdown",
   "metadata": {},
   "source": [
    "# Tambourine's fitness regime"
   ]
  },
  {
   "cell_type": "code",
   "execution_count": 20,
   "metadata": {},
   "outputs": [],
   "source": [
    "input_ = \"\"\"4\n",
    "5 2\n",
    "10 13 15 16 17\n",
    "5 6\n",
    "9 10 20 26 30\n",
    "8 3\n",
    "1 2 3 4 5 6 7 10\n",
    "3 1\n",
    "100 200 230\"\"\""
   ]
  },
  {
   "cell_type": "code",
   "execution_count": 21,
   "metadata": {},
   "outputs": [
    {
     "name": "stdout",
     "output_type": "stream",
     "text": [
      "Case #1: 2\n",
      "Case #2: 3\n",
      "Case #3: 1\n",
      "Case #4: 50\n"
     ]
    }
   ],
   "source": [
    "class Case:\n",
    "    def __init__(self, sessions, additional_session, session_lengths):\n",
    "        self.sessions = sessions\n",
    "        self.additional_session = additional_session\n",
    "        self.session_lengths = session_lengths\n",
    "    \n",
    "    def add_session(self):\n",
    "        for i in range(self.additional_session):\n",
    "            lower = 0\n",
    "            upper = self.sessions-1\n",
    "            middle = (lower+upper)//2\n",
    "            while(True):\n",
    "                if((self.session_lengths[upper] - self.session_lengths[middle]) > \n",
    "                   (self.session_lengths[middle]-self.session_lengths[lower])):\n",
    "                    lower = middle\n",
    "                else:\n",
    "                    upper = middle\n",
    "                middle = (lower+upper)//2\n",
    "                if(lower+1 == upper):\n",
    "                    new_list = []\n",
    "                    val = (self.session_lengths[lower]+self.session_lengths[upper])//2\n",
    "                    new_list = new_list + self.session_lengths[:lower+1] + [val] + self.session_lengths[upper:]\n",
    "                    self.session_lengths = new_list\n",
    "                    self.sessions+=1\n",
    "                    break\n",
    "            max_diff = 0\n",
    "            temp_diff = 0\n",
    "            for i in range(self.sessions-1):\n",
    "                temp_diff = self.session_lengths[i+1]-self.session_lengths[i]\n",
    "                if(temp_diff>max_diff):\n",
    "                    max_diff = temp_diff\n",
    "        return max_diff\n",
    "                    \n",
    "in_ = input_.splitlines()\n",
    "t = int(in_[0])\n",
    "i = 1\n",
    "while(i<=2*t):\n",
    "    sessions, additional_session = [int(x) for x in in_[i].split()]\n",
    "    i+=1\n",
    "    session_lengths = [int(x) for x in in_[i].split()]\n",
    "    i+=1\n",
    "    case = Case(sessions, additional_session,session_lengths)\n",
    "    print(\"Case #{}: {}\".format(i//2,case.add_session()))"
   ]
  },
  {
   "cell_type": "markdown",
   "metadata": {},
   "source": [
    "# Read Phone Number"
   ]
  },
  {
   "cell_type": "code",
   "execution_count": 22,
   "metadata": {},
   "outputs": [],
   "source": [
    "input_=\"\"\"3\n",
    "15012233444 3-4-4\n",
    "15012233444 3-3-5\n",
    "12223 2-3\"\"\""
   ]
  },
  {
   "cell_type": "code",
   "execution_count": 23,
   "metadata": {},
   "outputs": [
    {
     "name": "stdout",
     "output_type": "stream",
     "text": [
      "Case #1:  one five zero one double two three three triple four\n",
      "Case #2:  one five zero one double two double three triple four\n",
      "Case #3:  one two double two three\n"
     ]
    }
   ],
   "source": [
    "class Case: \n",
    "    def __init__(self, number, n_format):\n",
    "        self.number = number\n",
    "        self.n_format = [int(x) for x in n_format.split(\"-\")]\n",
    "        self.f_length = len(self.n_format)\n",
    "    def read(self):\n",
    "        string = \"\" \n",
    "        len_min, len_max = 0, -1\n",
    "        \n",
    "        d = {1:\"one\",2:\"two\",3:\"three\",4:\"four\",5:\"five\",\n",
    "             6:\"six\",7:\"seven\",8:\"eight\",9:\"nine\",0:\"zero\"}\n",
    "        count_d = {2:\"double\",3:\"triple\", 4:\"quadruple\",\n",
    "                   5:\"quintuple\",6:\"sextuple\",7:\"septuple\",\n",
    "                   8:\"octuple\",9:\"nonuple\",10:\"decuple\"}\n",
    "        \n",
    "        for i in self.n_format:\n",
    "            len_max+=i\n",
    "            j = len_min\n",
    "            while(j<=len_max):\n",
    "                digit = self.number[j]\n",
    "                count = 1\n",
    "                while((j+1)<=len_max and self.number[j+1]==digit):\n",
    "                    count = (count+1)%11\n",
    "                    j+=1\n",
    "                if(count>1):\n",
    "                    string = string+\" \"+count_d[count]+\" \"+d[int(digit)]\n",
    "                else:\n",
    "                    string = string+\" \"+d[int(digit)]\n",
    "                j+=1\n",
    "                #print(string)\n",
    "            len_min=len_max+1\n",
    "        return(string)\n",
    "\n",
    "in_ = input_.splitlines()\n",
    "t = int(in_[0])\n",
    "i = 1\n",
    "while(i<=t):\n",
    "    number, n_format = [x for x in in_[i].split()]\n",
    "    i+=1\n",
    "    case = Case(number, n_format)\n",
    "    print(\"Case #{}: {}\".format(i-1,case.read()))\n"
   ]
  },
  {
   "cell_type": "markdown",
   "metadata": {},
   "source": [
    "# Bus Routes\n",
    "  \n",
    "Bucket is planning to make a very long journey across the countryside by bus. Her journey consists of N bus routes, numbered from 1 to N in the order she must take them. The buses themselves are very fast, but do not run often. The i-th bus route only runs every Xi days.  \n",
    "\n",
    "More specifically, she can only take the i-th bus on day Xi, 2Xi, 3Xi and so on. Since the buses are very fast, she can take multiple buses on the same day.  \n",
    "\n",
    "Bucket must finish her journey by day D, but she would like to start the journey as late as possible. What is the latest day she could take the first bus, and still finish her journey by day D?  \n",
    "\n",
    "It is guaranteed that it is possible for Bucket to finish her journey by day D.  \n",
    "\n",
    "**Input**  \n",
    "The first line of the input gives the number of test cases, T. T test cases follow. Each test case begins with a line containing the two integers N and D. Then, another line follows containing N integers, the i-th one is Xi.\n",
    "\n",
    "3  \n",
    "3 10  \n",
    "3 7 2  \n",
    "4 100  \n",
    "11 10 5 50  \n",
    "1 1  \n",
    "1  \n",
    "\n",
    "**Output**  \n",
    "For each test case, output one line containing Case #x: y, where x is the test case number (starting from 1) and y is the latest day she could take the first bus, and still finish her journey by day D.  \n",
    "\n",
    "Case #1: 6  \n",
    "Case #2: 99  \n",
    "Case #3: 1  "
   ]
  },
  {
   "cell_type": "code",
   "execution_count": 24,
   "metadata": {},
   "outputs": [],
   "source": [
    "input_ = \"\"\"3\n",
    "3 10\n",
    "3 7 2\n",
    "4 100\n",
    "11 10 5 50\n",
    "1 1\n",
    "1\"\"\""
   ]
  },
  {
   "cell_type": "code",
   "execution_count": 25,
   "metadata": {},
   "outputs": [
    {
     "name": "stdout",
     "output_type": "stream",
     "text": [
      "Case #1: 6\n",
      "Case #2: 99\n",
      "Case #3: 1\n"
     ]
    }
   ],
   "source": [
    "class Case: \n",
    "    def __init__(self, routes, finish_day , route_schds):\n",
    "        self.routes = routes\n",
    "        self.finish_day = finish_day\n",
    "        self.route_schds = route_schds[::-1]\n",
    "    def compute(self):\n",
    "        days_before_travel = -1\n",
    "        for schd in self.route_schds:\n",
    "            temp = finish_day%schd\n",
    "            if(temp>=days_before_travel):\n",
    "                days_before_travel = temp\n",
    "            else:\n",
    "                mul = self.finish_day//schd\n",
    "                while(mul>0):\n",
    "                    diff = self.finish_day - schd*(mul-1)\n",
    "                    if(diff>=days_before_travel):\n",
    "                        days_before_travel = diff\n",
    "                        break\n",
    "                    mul-=1\n",
    "        latest_travel_day = self.finish_day - days_before_travel\n",
    "        return latest_travel_day\n",
    "\n",
    "in_ = input_.splitlines()\n",
    "t = int(in_[0])\n",
    "i = 1\n",
    "while(i<=2*t):\n",
    "    routes, finish_day = [int(x) for x in in_[i].split()]\n",
    "    i+=1\n",
    "    route_schds = [int(x) for x in in_[i].split()]\n",
    "    i+=1\n",
    "    case = Case(routes, finish_day , route_schds)\n",
    "    print(\"Case #{}: {}\".format(i//2,case.compute()))"
   ]
  }
 ],
 "metadata": {
  "kernelspec": {
   "display_name": "Python 3",
   "language": "python",
   "name": "python3"
  },
  "language_info": {
   "codemirror_mode": {
    "name": "ipython",
    "version": 3
   },
   "file_extension": ".py",
   "mimetype": "text/x-python",
   "name": "python",
   "nbconvert_exporter": "python",
   "pygments_lexer": "ipython3",
   "version": "3.8.3"
  }
 },
 "nbformat": 4,
 "nbformat_minor": 4
}
